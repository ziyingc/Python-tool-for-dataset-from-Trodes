{
 "cells": [
  {
   "cell_type": "code",
   "execution_count": 1,
   "metadata": {},
   "outputs": [
    {
     "name": "stdout",
     "output_type": "stream",
     "text": [
      "D:\\Dropbox\\Lab\\MotorCortex\\Multi_Rats_ver2.0\n",
      "D:\\Dropbox\\Lab\\MotorCortex\n"
     ]
    }
   ],
   "source": [
    "import warnings; warnings.filterwarnings(\"ignore\")\n",
    "import os;\n",
    "from sys import platform\n",
    "print(os.getcwd())\n",
    "if platform == \"darwin\":\n",
    "    os.chdir('/Users/ziyingc/Dropbox/Lab/MotorCortex')\n",
    "elif platform == \"win32\":\n",
    "    os.chdir('D:\\Dropbox\\Lab\\MotorCortex')\n",
    "print(os.getcwd())\n",
    "import numpy as np\n",
    "import comparison as cmp\n",
    "import matplotlib.pyplot as plt\n",
    "import matplotlib.lines as mlines\n",
    "from matplotlib.patches import Patch\n",
    "from matplotlib.lines import Line2D\n",
    "from matplotlib.gridspec import GridSpec\n",
    "import matplotlib.cm as cm; \n",
    "import matplotlib.mlab as mlab\n",
    "from mpl_toolkits.axes_grid1.inset_locator import inset_axes\n",
    "import pycwt as wavelet; mother = wavelet.Morlet(6)\n",
    "from scipy import stats\n",
    "import read_data as rd;   import time2frequency as t2f\n",
    "import behavior_track as bt ; import behavior_plot as bp ; import turning_track  as tt\n",
    "import philters\n",
    "import bandpower as bpr\n",
    "fps = 30; fs_out = 1000; fs = 30000; T = 1/fs_out;\n",
    "N = int((1/fps)/T/2+1);\n",
    "\n",
    "sgn   = ['***','**','*']\n",
    "P_sgn = np.array([0.0001, 0.001, 0.05])"
   ]
  },
  {
   "cell_type": "code",
   "execution_count": 2,
   "metadata": {},
   "outputs": [
    {
     "name": "stdout",
     "output_type": "stream",
     "text": [
      "Swashbuckler 13\n",
      "Outlaw 42\n",
      "Lenny 6\n",
      "Astro 17\n"
     ]
    }
   ],
   "source": [
    "rats = '_post'\n",
    "# rats=''\n",
    "erfdn = np.load('Rats/Rats_ephy'+rats+'.npy');\n",
    "mode = 'FFT'\n",
    "f = np.load('Rats/freqs_'+mode+'_'+str(fs_out)+'.npy');x_fit = np.log10(f); \n",
    "\n",
    "\n",
    "idx_f1_fit = np.logical_and(f>=16.25, f<=18.75);\n",
    "idx_f2_fit = np.logical_and(f>=47.50, f<=57.50); idx_f_fit = np.logical_or(idx_f1_fit, idx_f2_fit);\n",
    "idx_f_fit = np.logical_or(idx_f1_fit, idx_f2_fit);\n",
    "for rfdn in erfdn:\n",
    "    \n",
    "    epn       = np.load(rfdn+'tracking'+'/epn_ephy'+rats+'.npy')\n",
    "    subset = np.load(rfdn+'tracking'+'/subset_ephy_li.npy');\n",
    "    print(rfdn[9:len(rfdn)-1], len(epn))\n",
    "#     slope_l, intercept_l, slope_i, intercept_i, intercept_li = \\\n",
    "#     t2f.flicker_fit_fft(rfdn, epn, fs_out, subset, f, idx_f_fit, mode)\n",
    "#     slope     = np.array([slope_l,     slope_i]);\n",
    "#     intercept = np.array([intercept_l, intercept_i]);\n",
    "\n",
    "#     np.save(rfdn+'tracking'+'/slope_epn_ephy'+rats+'.npy',    slope)\n",
    "#     np.save(rfdn+'tracking'+'/intercept_epn_ephy'+rats+'.npy',intercept)"
   ]
  },
  {
   "cell_type": "code",
   "execution_count": 3,
   "metadata": {},
   "outputs": [
    {
     "name": "stdout",
     "output_type": "stream",
     "text": [
      "T1: 120.0 T2: 150.0\n"
     ]
    }
   ],
   "source": [
    "T_pre = 0\n",
    "idx_band =  np.logical_and(f>=13, f<=50)\n",
    "f_band = f[idx_band]\n",
    "l_fb = len(f_band)\n",
    "\n",
    "T1 = np.load('Rats/T1.npy');\n",
    "T2 = np.load('Rats/T2.npy');\n",
    "\n",
    "t = np.arange(T_pre+T2).astype('int');\n",
    "\n",
    "print('T1:', T1, 'T2:', T2)\n",
    "\n",
    "idx_bf_l = np.logical_and(f_band>=17.50, f_band<=27.50);\n",
    "idx_bf_h = np.logical_and(f_band>=30.00, f_band<=40.00);\n",
    "f_beta_l = f_band[idx_bf_l]; f_win_l = np.hanning(len(f_beta_l))#/np.sum(f_win_l)\n",
    "f_beta_h = f_band[idx_bf_h]; f_win_h = np.hanning(len(f_beta_h))#/np.sum(f_win_h)\n",
    "idx_bt_1 = np.arange(T_pre+60, T_pre+90).astype('int');\n",
    "idx_bt_2 = np.arange(T_pre+T2-45, T_pre+T2).astype('int');\n",
    "\n",
    "np.save('Rats/idx_bt_1.npy', idx_bt_1)\n",
    "np.save('Rats/idx_bt_2.npy', idx_bt_2)\n",
    "np.save('Rats/idx_bf_l.npy', idx_bf_l)\n",
    "np.save('Rats/idx_bf_h.npy', idx_bf_h)"
   ]
  },
  {
   "cell_type": "code",
   "execution_count": 4,
   "metadata": {},
   "outputs": [
    {
     "name": "stdout",
     "output_type": "stream",
     "text": [
      "_pre\n",
      "Swashbuckler 5\n",
      "(40,) (40,)\n",
      "Outlaw 9\n",
      "(69,) (69,)\n",
      "Drifter 9\n",
      "(55,) (55,)\n",
      "Quartus 8\n",
      "(82,) (82,)\n"
     ]
    },
    {
     "data": {
      "text/plain": [
       "<Figure size 1080x576 with 0 Axes>"
      ]
     },
     "metadata": {},
     "output_type": "display_data"
    }
   ],
   "source": [
    "rats = '_pre'\n",
    "print(rats)\n",
    "erfdn = np.load('Rats/Rats_ephy'+rats+'.npy')#[[0]];\n",
    "n_r = len(erfdn)\n",
    "P_acc_l_T1_l_a = np.empty((0,)); P_acc_l_T2_l_a = np.empty((0,))\n",
    "P_acc_i_T1_l_a = np.empty((0,)); P_acc_i_T2_l_a = np.empty((0,))\n",
    "P_acc_l_T1_h_a = np.empty((0,)); P_acc_l_T2_h_a = np.empty((0,))\n",
    "P_acc_i_T1_h_a = np.empty((0,)); P_acc_i_T2_h_a = np.empty((0,))\n",
    "fig = plt.figure(1, figsize=(1, 1))\n",
    "fig.set_figheight(8); fig.set_figwidth(15)\n",
    "gs  = GridSpec(2, 6);\n",
    "n_acc_total_x = 0\n",
    "xtk    = np.arange(1, 5*n_r+1, 5)\n",
    "xticklabel = [];\n",
    "rr = 0\n",
    "\n",
    "for rfdn in erfdn:\n",
    "    xticklabel = np.append(xticklabel, rfdn[9:len(rfdn)-1]);\n",
    "    epn = np.load(rfdn+'tracking'+'/epn_ephy'+rats+'.npy')\n",
    "    print(rfdn[9:len(rfdn)-1], len(epn))\n",
    "    P_acc_l_T1_l, P_acc_l_T2_l, P_acc_i_T1_l, P_acc_i_T2_l, P_acc_l_T1_h, P_acc_l_T2_h, P_acc_i_T1_h, P_acc_i_T2_h = \\\n",
    "    bpr.read_band_power(rfdn, rats, epn, fs_out, x_fit, T_pre, T1, T2, l_fb, idx_band, idx_bf_l, idx_bf_h, idx_bt_1, idx_bt_2)\n",
    "    print(P_acc_l_T1_l.shape, P_acc_i_T1_l.shape)\n",
    "    np.save(rfdn+'tracking/P_acc_l_T1_l'+rats+'.npy', P_acc_l_T1_l)\n",
    "    np.save(rfdn+'tracking/P_acc_l_T2_l'+rats+'.npy', P_acc_l_T2_l)\n",
    "    np.save(rfdn+'tracking/P_acc_i_T1_l'+rats+'.npy', P_acc_i_T1_l)\n",
    "    np.save(rfdn+'tracking/P_acc_i_T2_l'+rats+'.npy', P_acc_i_T2_l)\n",
    "    \n",
    "    np.save(rfdn+'tracking/P_acc_l_T1_h'+rats+'.npy', P_acc_l_T1_h)\n",
    "    np.save(rfdn+'tracking/P_acc_l_T2_h'+rats+'.npy', P_acc_l_T2_h)\n",
    "    np.save(rfdn+'tracking/P_acc_i_T1_h'+rats+'.npy', P_acc_i_T1_h)\n",
    "    np.save(rfdn+'tracking/P_acc_i_T2_h'+rats+'.npy', P_acc_i_T2_h)\n",
    "    \n",
    "    P_acc_l_T1_l_a = np.append(P_acc_l_T1_l_a, P_acc_l_T1_l);\n",
    "    P_acc_i_T1_l_a = np.append(P_acc_i_T1_l_a, P_acc_i_T1_l); \n",
    "    P_acc_l_T2_l_a = np.append(P_acc_l_T2_l_a, P_acc_l_T2_l);\n",
    "    P_acc_i_T2_l_a = np.append(P_acc_i_T2_l_a, P_acc_i_T2_l);\n",
    "    \n",
    "    P_acc_l_T1_h_a = np.append(P_acc_l_T1_h_a, P_acc_l_T1_h);\n",
    "    P_acc_i_T1_h_a = np.append(P_acc_i_T1_h_a, P_acc_i_T1_h); \n",
    "    P_acc_l_T2_h_a = np.append(P_acc_l_T2_h_a, P_acc_l_T2_h);\n",
    "    P_acc_i_T2_h_a = np.append(P_acc_i_T2_h_a, P_acc_i_T2_h);\n",
    "np.save('Rats/P_acc_l_T1_l'+rats+'.npy', P_acc_l_T1_l_a)\n",
    "np.save('Rats/P_acc_l_T2_l'+rats+'.npy', P_acc_l_T2_l_a)\n",
    "np.save('Rats/P_acc_i_T1_l'+rats+'.npy', P_acc_i_T1_l_a)\n",
    "np.save('Rats/P_acc_i_T2_l'+rats+'.npy', P_acc_i_T2_l_a)\n",
    "np.save('Rats/P_acc_l_T1_h'+rats+'.npy', P_acc_l_T1_h_a)\n",
    "np.save('Rats/P_acc_l_T2_h'+rats+'.npy', P_acc_l_T2_h_a)\n",
    "np.save('Rats/P_acc_i_T1_h'+rats+'.npy', P_acc_i_T1_h_a)\n",
    "np.save('Rats/P_acc_i_T2_h'+rats+'.npy', P_acc_i_T2_h_a)"
   ]
  },
  {
   "cell_type": "markdown",
   "metadata": {},
   "source": [
    "# Post"
   ]
  },
  {
   "cell_type": "code",
   "execution_count": 5,
   "metadata": {},
   "outputs": [
    {
     "name": "stdout",
     "output_type": "stream",
     "text": [
      "_post\n",
      "Swashbuckler 13\n",
      "(58,) (58,)\n",
      "Outlaw 42\n",
      "(114,) (114,)\n",
      "Lenny 6\n",
      "(14,) (14,)\n",
      "Astro 17\n",
      "(65,) (65,)\n"
     ]
    },
    {
     "data": {
      "text/plain": [
       "<Figure size 1080x576 with 0 Axes>"
      ]
     },
     "metadata": {},
     "output_type": "display_data"
    }
   ],
   "source": [
    "rats = '_post'\n",
    "print(rats)\n",
    "erfdn = np.load('Rats/Rats_ephy'+rats+'.npy')#[[0]];\n",
    "n_r = len(erfdn)\n",
    "P_acc_l_T1_l_a = np.empty((0,)); P_acc_l_T2_l_a = np.empty((0,))\n",
    "P_acc_i_T1_l_a = np.empty((0,)); P_acc_i_T2_l_a = np.empty((0,))\n",
    "P_acc_l_T1_h_a = np.empty((0,)); P_acc_l_T2_h_a = np.empty((0,))\n",
    "P_acc_i_T1_h_a = np.empty((0,)); P_acc_i_T2_h_a = np.empty((0,))\n",
    "fig = plt.figure(1, figsize=(1, 1))\n",
    "fig.set_figheight(8); fig.set_figwidth(15)\n",
    "gs  = GridSpec(2, 6);\n",
    "n_acc_total_x = 0\n",
    "xtk    = np.arange(1, 5*n_r+1, 5)\n",
    "xticklabel = [];\n",
    "rr = 0\n",
    "\n",
    "for rfdn in erfdn:\n",
    "    xticklabel = np.append(xticklabel, rfdn[9:len(rfdn)-1]);\n",
    "    epn = np.load(rfdn+'tracking'+'/epn_ephy'+rats+'.npy')\n",
    "    print(rfdn[9:len(rfdn)-1], len(epn))\n",
    "    P_acc_l_T1_l, P_acc_l_T2_l, P_acc_i_T1_l, P_acc_i_T2_l, P_acc_l_T1_h, P_acc_l_T2_h, P_acc_i_T1_h, P_acc_i_T2_h = \\\n",
    "    bpr.read_band_power(rfdn, rats, epn, fs_out, x_fit, T_pre, T1, T2, l_fb, idx_band, idx_bf_l, idx_bf_h, idx_bt_1, idx_bt_2)\n",
    "    print(P_acc_l_T1_l.shape, P_acc_i_T1_l.shape)\n",
    "    np.save(rfdn+'tracking/P_acc_l_T1_l'+rats+'.npy', P_acc_l_T1_l)\n",
    "    np.save(rfdn+'tracking/P_acc_l_T2_l'+rats+'.npy', P_acc_l_T2_l)\n",
    "    np.save(rfdn+'tracking/P_acc_i_T1_l'+rats+'.npy', P_acc_i_T1_l)\n",
    "    np.save(rfdn+'tracking/P_acc_i_T2_l'+rats+'.npy', P_acc_i_T2_l)\n",
    "    \n",
    "    np.save(rfdn+'tracking/P_acc_l_T1_h'+rats+'.npy', P_acc_l_T1_h)\n",
    "    np.save(rfdn+'tracking/P_acc_l_T2_h'+rats+'.npy', P_acc_l_T2_h)\n",
    "    np.save(rfdn+'tracking/P_acc_i_T1_h'+rats+'.npy', P_acc_i_T1_h)\n",
    "    np.save(rfdn+'tracking/P_acc_i_T2_h'+rats+'.npy', P_acc_i_T2_h)\n",
    "    \n",
    "    P_acc_l_T1_l_a = np.append(P_acc_l_T1_l_a, P_acc_l_T1_l);\n",
    "    P_acc_i_T1_l_a = np.append(P_acc_i_T1_l_a, P_acc_i_T1_l); \n",
    "    P_acc_l_T2_l_a = np.append(P_acc_l_T2_l_a, P_acc_l_T2_l);\n",
    "    P_acc_i_T2_l_a = np.append(P_acc_i_T2_l_a, P_acc_i_T2_l);\n",
    "    \n",
    "    P_acc_l_T1_h_a = np.append(P_acc_l_T1_h_a, P_acc_l_T1_h);\n",
    "    P_acc_i_T1_h_a = np.append(P_acc_i_T1_h_a, P_acc_i_T1_h); \n",
    "    P_acc_l_T2_h_a = np.append(P_acc_l_T2_h_a, P_acc_l_T2_h);\n",
    "    P_acc_i_T2_h_a = np.append(P_acc_i_T2_h_a, P_acc_i_T2_h);\n",
    "np.save('Rats/P_acc_l_T1_l'+rats+'.npy', P_acc_l_T1_l_a)\n",
    "np.save('Rats/P_acc_l_T2_l'+rats+'.npy', P_acc_l_T2_l_a)\n",
    "np.save('Rats/P_acc_i_T1_l'+rats+'.npy', P_acc_i_T1_l_a)\n",
    "np.save('Rats/P_acc_i_T2_l'+rats+'.npy', P_acc_i_T2_l_a)\n",
    "\n",
    "np.save('Rats/P_acc_l_T1_h'+rats+'.npy', P_acc_l_T1_h_a)\n",
    "np.save('Rats/P_acc_l_T2_h'+rats+'.npy', P_acc_l_T2_h_a)\n",
    "np.save('Rats/P_acc_i_T1_h'+rats+'.npy', P_acc_i_T1_h_a)\n",
    "np.save('Rats/P_acc_i_T2_h'+rats+'.npy', P_acc_i_T2_h_a)"
   ]
  }
 ],
 "metadata": {
  "kernelspec": {
   "display_name": "Python 3",
   "language": "python",
   "name": "python3"
  },
  "language_info": {
   "codemirror_mode": {
    "name": "ipython",
    "version": 3
   },
   "file_extension": ".py",
   "mimetype": "text/x-python",
   "name": "python",
   "nbconvert_exporter": "python",
   "pygments_lexer": "ipython3",
   "version": "3.7.0"
  }
 },
 "nbformat": 4,
 "nbformat_minor": 2
}
