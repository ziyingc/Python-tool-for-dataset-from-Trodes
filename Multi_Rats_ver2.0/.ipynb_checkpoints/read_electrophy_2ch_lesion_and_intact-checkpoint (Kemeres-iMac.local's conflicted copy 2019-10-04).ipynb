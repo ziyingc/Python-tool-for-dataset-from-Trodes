{
 "cells": [
  {
   "cell_type": "code",
   "execution_count": 1,
   "metadata": {},
   "outputs": [
    {
     "name": "stdout",
     "output_type": "stream",
     "text": [
      "D:\\Dropbox\\Lab\\MotorCortex\\Multi_Rats_ver2.0\n",
      "D:\\Dropbox\\Lab\\MotorCortex\n"
     ]
    }
   ],
   "source": [
    "import warnings; warnings.filterwarnings(\"ignore\")\n",
    "import os;\n",
    "from sys import platform\n",
    "print(os.getcwd())\n",
    "if platform == \"darwin\":\n",
    "    os.chdir('/Users/ziyingc/Dropbox/Lab/MotorCortex')\n",
    "elif platform == \"win32\":\n",
    "    os.chdir('D:\\Dropbox\\Lab\\MotorCortex')\n",
    "print(os.getcwd())\n",
    "import numpy as np\n",
    "\n",
    "import matplotlib.pyplot as plt\n",
    "import matplotlib.lines as mlines\n",
    "from matplotlib.patches import Patch as patch\n",
    "from matplotlib.gridspec import GridSpec\n",
    "import matplotlib.cm as cm; \n",
    "import matplotlib.mlab as mlab\n",
    "from mpl_toolkits.axes_grid1.inset_locator import inset_axes\n",
    "import pycwt as wavelet; mother = wavelet.Morlet(6)\n",
    "from scipy import stats\n",
    "from scipy import signal\n",
    "\n",
    "import read_data as rd\n",
    "import behavior_track as bt; import behavior_plot as bp\n",
    "import turning_track  as tt\n",
    "import time2frequency as t2f\n",
    "import comparison as cmp\n",
    "fps = 30; fs_out = 1000; fs = 30000; T = 1/fs_out;\n",
    "N = int((1/fps)/T/2+1);"
   ]
  },
  {
   "cell_type": "markdown",
   "metadata": {},
   "source": [
    "# Read locations"
   ]
  },
  {
   "cell_type": "code",
   "execution_count": 2,
   "metadata": {},
   "outputs": [
    {
     "name": "stdout",
     "output_type": "stream",
     "text": [
      "500\n",
      "Rats/Rat_Swashbuckler/ 23\n",
      "Rats/Rat_Outlaw/ 62\n",
      "Rats/Rat_Drifter/ 66\n",
      "Rats/Rat_Unknown/ 16\n",
      "Rats/Rat_Quartus/ 29\n",
      "Rats/Rat_Lenny/ 11\n",
      "Rats/Rat_Astro/ 17\n"
     ]
    }
   ],
   "source": [
    "# erfdn = np.load('Rats/Rats_LT_ephy.npy')[[2]]\n",
    "# erfdn = np.load('Rats/Rats_Turn.npy')\n",
    "# erfdn = np.load('Rats/Rats.npy')\n",
    "# erfdn = np.load('Rats/Rats_Turn_ephy.npy')\n",
    "erfdn = np.load('Rats/Rats_ephy.npy')\n",
    "sigma = 0.1;  T_seg = np.array([150]);\n",
    "##discard\n",
    "N_f  = 30\n",
    "N_h1 = int((1/fps)/T/2*N_f); # the length discarded at the start and end of time series\n",
    "print(N_h1)\n",
    "for rfdn in erfdn:\n",
    "    epn    = np.load(rfdn+'tracking'+'/epn_ephy.npy')#[[0,1]];   \n",
    "    print(rfdn, len(epn))\n",
    "#     bt.read_video      (rfdn, epn, fs, fps, sigma)\n",
    "#     bt.match_fps2fs_out(rfdn, epn, fps, fs_out, N_h1)\n",
    "#     bt.raw2mp4(rfdn, epn, fps)"
   ]
  },
  {
   "cell_type": "markdown",
   "metadata": {},
   "source": [
    "# read and post-process time series"
   ]
  },
  {
   "cell_type": "code",
   "execution_count": null,
   "metadata": {},
   "outputs": [],
   "source": [
    "# import shutil\n",
    "# erfdn = np.load('Rats/Rats_ephy.npy')\n",
    "# for rfdn in erfdn:\n",
    "#     epn    = np.load(rfdn+'tracking'+'/epn_ephy.npy');\n",
    "#     shutil.rmtree(dirPath)\n"
   ]
  },
  {
   "cell_type": "code",
   "execution_count": 3,
   "metadata": {},
   "outputs": [
    {
     "name": "stdout",
     "output_type": "stream",
     "text": [
      "[  8.75  10.    11.25] 400\n",
      "500 400\n",
      "Rats/Rat_Swashbuckler/ 23 [0 4]\n",
      "0.612 0.999 190515_1007\n",
      "0.533 1.0 190516_1207\n",
      "0.537 1.0 190521_1203\n",
      "0.591 1.0 190524_1343\n",
      "Rats/Rat_Outlaw/ 62 [ 5 13]\n",
      "0.704 0.971 190611_1140\n",
      "Rats/Rat_Quartus/ 29 [ 4 28]\n",
      "Rats/Rat_Unknown/ 16 [20  4]\n",
      "0.52 1.0 190217_1748\n",
      "0.658 1.0 190218_1456\n",
      "0.6 1.0 190218_1508\n",
      "0.523 1.0 190219_1328\n",
      "0.621 0.996 190226_1336\n",
      "0.732 1.0 190227_1154\n",
      "0.626 0.998 190301_1051\n",
      "0.568 0.999 190302_1613\n",
      "Rats/Rat_Drifter/ 66 [20 28]\n",
      "0.607 0.999 190316_1629\n",
      "0.648 1.0 190316_1645\n",
      "0.571 1.0 190316_1705\n",
      "0.643 1.0 190317_1457\n",
      "0.706 1.0 190317_1516\n",
      "0.654 1.0 190317_1536\n",
      "0.565 1.0 190323_1806\n",
      "0.643 0.998 190324_1703\n",
      "0.667 1.0 190327_1452\n",
      "0.743 1.0 190404_1453\n",
      "0.696 1.0 190404_1513\n",
      "0.539 0.999 190404_1553\n",
      "0.653 1.0 190406_1742\n",
      "0.742 0.997 190408_1459\n",
      "Rats/Rat_Astro/ 17 [ 5 12]\n",
      "Rats/Rat_Lenny/ 11 [ 5 12]\n",
      "0.701 0.987 190107_1112\n",
      "0.654 0.998 190107_1118\n",
      "0.733 0.994 190107_1124\n"
     ]
    }
   ],
   "source": [
    "###################################\n",
    "fl = 3;  fh = 300;  check = False; N_std = 20; \n",
    "################   FFT   #############\n",
    "N_h2 = 400;\n",
    "f = np.linspace(1.0/(2.0*T)/N_h2, 1.0/(2.0*T), N_h2);\n",
    "np.save('Rats/freqs_FFT_'+str(fs_out)+'.npy', f);       print(f[np.logical_and(f>=8.75 , f<=11.25)],len(f))\n",
    "N_std_fft = 20;\n",
    "print(N_h1,N_h2)\n",
    "erfdn = np.load('Rats/Rats_ephy.npy')#[[2,5,6]]\n",
    "# erfdn = np.load('Rats/Rats_LT_ephy.npy')[[2]]\n",
    "# erfdn = np.load('Rats/Rats_Turn_ephy.npy')\n",
    "if N_h2 <= N_h1:\n",
    "    for rfdn in erfdn:\n",
    "#         epn    = np.load(rfdn+'tracking'+'/epn_turn_elec_post.npy');\n",
    "#         epn    = np.load(rfdn+'tracking'+'/epn_LT_post.npy');\n",
    "        epn    = np.load(rfdn+'tracking'+'/epn_ephy.npy');\n",
    "        subset = np.load(rfdn+'tracking'+'/subset_ephy_li.npy');\n",
    "        print(rfdn, len(epn), subset)\n",
    "    #     rd.rec2raw    (rfdn, epn, subset);\n",
    "    #     rd.raw2npy    (rfdn, epn, subset, fs, fl, fh, fs_out, check);\n",
    "#         rd.rm_artifact     (rfdn, epn, fs_out, subset, N_std);\n",
    "#         t2f.fft_frame(rfdn, epn, subset, fs_out, N_h2)\n",
    "        t2f.rm_fft_artifact(rfdn, epn, fs_out, f, subset, N_std_fft, int(N_f/2), 8.75, 11.25)\n"
   ]
  },
  {
   "cell_type": "code",
   "execution_count": 9,
   "metadata": {},
   "outputs": [],
   "source": [
    "################   CWR   #############\n",
    "beta_lim = np.array([5, 70]); res = 1; \n",
    "n_f   = int((beta_lim[1]-beta_lim[0])*res+1)\n",
    "freqs = np.linspace(beta_lim[0], beta_lim[1], num = n_f);\n",
    "N_std_cwt = 25;       \n",
    "np.save('Rats/freqs_CWT_'+str(fs_out)+'.npy', freqs)\n",
    "#################CWR_FRAME#######\n",
    "window = np.hanning(N*2);\n",
    "\n",
    "# erfdn = np.load('Rats/Rats_Turn_ephy.npy')\n",
    "# erfdn = np.load('Rats/Rats_LT_ephy.npy')\n",
    "erfdn = np.load('Rats/Rats_ephy.npy')\n",
    "if N_h2 <= N_h1:\n",
    "    for rfdn in erfdn:\n",
    "        epn    = np.load(rfdn+'tracking'+'/epn_ephy.npy');\n",
    "#         epn    = np.load(rfdn+'tracking'+'/epn_turn_elec_post.npy');\n",
    "#         epn    = np.load(rfdn+'tracking'+'/epn_turn_elec.npy');\n",
    "#         epn    = np.load(rfdn+'tracking'+'/epn_LT_post.npy');\n",
    "        subset = np.load(rfdn+'tracking'+'/subset_ephy_li.npy');\n",
    "        print(rfdn, len(epn), subset)\n",
    "#         t2f.cwt       (rfdn, epn, fs_out, freqs, subset, mother)\n",
    "#         t2f.rm_cwt_artifact(rfdn, epn, fs_out, freqs, subset, N_std_cwt, 8, 14)\n",
    "#         t2f.cwt_frame      (rfdn, epn, fs_out, freqs, subset, N)\n",
    "    "
   ]
  },
  {
   "cell_type": "code",
   "execution_count": null,
   "metadata": {},
   "outputs": [],
   "source": []
  },
  {
   "cell_type": "code",
   "execution_count": null,
   "metadata": {},
   "outputs": [],
   "source": []
  },
  {
   "cell_type": "code",
   "execution_count": null,
   "metadata": {},
   "outputs": [],
   "source": []
  },
  {
   "cell_type": "code",
   "execution_count": 6,
   "metadata": {},
   "outputs": [
    {
     "name": "stdout",
     "output_type": "stream",
     "text": [
      "Rats/Rat_Outlaw/ 48 [ 5 13]\n",
      "Rats/Rat_Swashbuckler/ 13 [0 4]\n",
      "Rats/Rat_Drifter/ 24 [20 28]\n"
     ]
    }
   ],
   "source": [
    "Toi1 = 1;   np.save('Toi1.npy', Toi1); Toi1 = int(Toi1*fps);\n",
    "Toi2 = 5;   np.save('Toi2.npy', Toi2); Toi2 = int(Toi2*fps);\n",
    "v_max_thr = 5;   v_max2_thr = 10; v_min_thr = 2\n",
    "d_min_thr = 5;   d_max_thr  = 6\n",
    "test = False\n",
    "erfdn = np.load('Rats/Rats_Turn_ephy.npy')\n",
    "buffer = 3\n",
    "for rfdn in erfdn:\n",
    "    epn    = np.load(rfdn+'tracking'+'/epn_turn_elec_post.npy');\n",
    "    subset = np.load(rfdn+'tracking'+'/subset_ephy_li.npy');\n",
    "    print(rfdn, len(epn), subset)\n",
    "    N_win = 5\n",
    "#     bt.ac_de_transit(rfdn, epn, fps, fs_out, v_max_thr, v_max2_thr, v_min_thr,\n",
    "#                      d_min_thr, d_max_thr, Toi1, Toi2, N_win, test)\n",
    "#     bt.ac_de_transit_filter(rfdn, epn, fps, fs_out, Toi1, Toi2, 10, test)\n",
    "#     bp.ac_de_lfp(rfdn, epn, fps, fs_out, subset, f, fl, fh, N_win, 'z')"
   ]
  },
  {
   "cell_type": "code",
   "execution_count": null,
   "metadata": {},
   "outputs": [
    {
     "name": "stdout",
     "output_type": "stream",
     "text": [
      "Rats/Rat_Swashbuckler/ sessions 23\n",
      "myAnimal20190514_120741 (3,)\n",
      "myAnimal20190514_122256 (6,)\n"
     ]
    }
   ],
   "source": [
    "erfdn = np.load('Rats/Rats_ephy_pre.npy')#[[2]]\n",
    "test = False\n",
    "T1 = 4*fps;np.save('Rats/T1.npy', T1);\n",
    "T2 = 5*fps;np.save('Rats/T2.npy', T2);\n",
    "\n",
    "fig = plt.figure(1, figsize=(12, len(erfdn)*4))\n",
    "gs  = GridSpec(len(erfdn) , 3);\n",
    "N_win = 15\n",
    "t = np.arange(T2);\n",
    "rr = 0\n",
    "for rfdn in erfdn:\n",
    "    epn    = np.load(rfdn+'tracking'+'/epn_ephy_pre.npy');\n",
    "    print(rfdn, 'sessions', len(epn))\n",
    "    d_min = 1; d_max = 4;\n",
    "    tt.displacement(rfdn, epn, T1, T2, d_min, d_max, N_win, test)\n",
    "\n",
    "#     d_min_thr = 4;   d_max_thr = 1.5;  spd_m_thr = 1.0;  spd_min_thr = 3;\n",
    "    \n",
    "#     total_ac, total_l_t = tt.accelerations(rfdn, epn, T1, T2, N_win, \n",
    "#                                                       d_min_thr, d_max_thr, spd_m_thr, spd_min_thr)\n",
    "#     print('acc:',np.round(total_ac/(total_l_t/fps/60),2), total_ac)\n",
    "#     v_seg = np.empty((0,T2));\n",
    "#     for k in epn:\n",
    "#         fdn = rfdn + k + '/'\n",
    "#         spd_f = np.load(fdn+'tracking/'+'spd_kal_f.npy')\n",
    "#         spd_f = np.convolve(spd_f, np.ones((N_win,))/N_win, mode='same')\n",
    "#         T_acc_f = np.load(fdn+'tracking/T_acc_f.npy');\n",
    "#         t_acc_f = np.load(fdn+'tracking/idx_acc_f.npy');\n",
    "#         n_acc = len(t_acc_f)\n",
    "#         v_seg = np.empty((0,T2))\n",
    "#         lag_m = np.zeros((n_acc,))\n",
    "#         lag_s = np.zeros((n_acc,))\n",
    "#         if n_acc>2:\n",
    "#             for i in np.arange(n_acc):\n",
    "#                 i_ref = t_acc_f[i]; T_ref = T_acc_f[i]\n",
    "#                 v_seg = np.vstack((v_seg, spd_f[i_ref:i_ref+T2]))\n",
    "#             lag_m, lag_s = tt.align_acc(v_seg, 15, 60)\n",
    "#         np.save(fdn+'tracking/lag_m.npy', lag_m)\n",
    "#         np.save(fdn+'tracking/lag_s.npy', lag_s)\n",
    "#     n_ac, T = v_seg.shape\n",
    "#     lag_m, lag_s = tt.align_acc(v_seg, 10, 45)\n",
    "#     print(np.max(np.absolute(lag_m)),np.max(np.absolute(lag_s)), np.round(np.mean(np.absolute(lag_m)),2))\n",
    "#     for i in np.arange(n_ac):\n",
    "#         ax_idx = gs[rr, 0];ax = fig.add_subplot(ax_idx)\n",
    "#         ax.plot(t, v_seg[i,:], lw = 0.5)\n",
    "#         ax_idx = gs[rr, 1];ax = fig.add_subplot(ax_idx)\n",
    "#         ax.plot(t+lag_m[i], v_seg[i,:], lw = 0.5)\n",
    "#         ax_idx = gs[rr, 2];ax = fig.add_subplot(ax_idx)\n",
    "#         ax.plot(t+lag_s[i], v_seg[i,:], lw = 0.5)\n",
    "\n",
    "#     ax_idx = gs[rr,0];ax = fig.add_subplot(ax_idx);ax.set_ylim([0,25]);ax.set_xlim([100,200]);\n",
    "#     ax_idx = gs[rr,1];ax = fig.add_subplot(ax_idx);ax.set_ylim([0,25]);ax.set_xlim([100,200]);\n",
    "#     ax_idx = gs[rr,2];ax = fig.add_subplot(ax_idx);ax.set_ylim([0,25]);ax.set_xlim([100,200]);\n",
    "    rr += 1"
   ]
  },
  {
   "cell_type": "code",
   "execution_count": 57,
   "metadata": {},
   "outputs": [
    {
     "name": "stdout",
     "output_type": "stream",
     "text": [
      "78 150\n"
     ]
    }
   ],
   "source": [
    "n_acc, T = v_seg.shape\n",
    "print(n_acc, T)"
   ]
  }
 ],
 "metadata": {
  "kernelspec": {
   "display_name": "Python 3",
   "language": "python",
   "name": "python3"
  },
  "language_info": {
   "codemirror_mode": {
    "name": "ipython",
    "version": 3
   },
   "file_extension": ".py",
   "mimetype": "text/x-python",
   "name": "python",
   "nbconvert_exporter": "python",
   "pygments_lexer": "ipython3",
   "version": "3.7.0"
  }
 },
 "nbformat": 4,
 "nbformat_minor": 2
}
