{
 "cells": [
  {
   "cell_type": "code",
   "execution_count": 3,
   "metadata": {},
   "outputs": [
    {
     "name": "stdout",
     "output_type": "stream",
     "text": [
      "D:\\Dropbox\\Lab\\MotorCortex\n",
      "D:\\Dropbox\\Lab\\MotorCortex\n"
     ]
    }
   ],
   "source": [
    "import warnings; warnings.filterwarnings(\"ignore\")\n",
    "import os;\n",
    "from sys import platform\n",
    "print(os.getcwd())\n",
    "if platform == \"darwin\":\n",
    "    os.chdir('/Users/ziyingc/Dropbox/Lab/MotorCortex')\n",
    "elif platform == \"win32\":\n",
    "    os.chdir('D:\\Dropbox\\Lab\\MotorCortex')\n",
    "print(os.getcwd())\n",
    "import numpy as np\n",
    "\n",
    "import matplotlib.pyplot as plt\n",
    "import matplotlib.lines as mlines\n",
    "from matplotlib.patches import Patch as patch\n",
    "from matplotlib.gridspec import GridSpec\n",
    "import matplotlib.cm as cm; \n",
    "import matplotlib.mlab as mlab\n",
    "from mpl_toolkits.axes_grid1.inset_locator import inset_axes\n",
    "\n",
    "from scipy import stats\n",
    "import read_data as rd\n",
    "import behavior_track as bt\n",
    "import turning_track  as tt\n",
    "import time2frequency as t2f\n",
    "\n",
    "\n",
    "fps = 30; fs_out = 1000; fs = 30000; T = 1/fs_out;"
   ]
  },
  {
   "cell_type": "markdown",
   "metadata": {},
   "source": [
    "# Read locations"
   ]
  },
  {
   "cell_type": "code",
   "execution_count": 4,
   "metadata": {},
   "outputs": [],
   "source": [
    "erfdn = [\n",
    "    'Rats/Rat_Astro/',\n",
    "    'Rats/Rat_Outlaw/',      \n",
    "    'Rats/Rat_Drifter/',\n",
    "    'Rats/Rat_Swashbuckler/',\n",
    "#     'Rats/Rat_Unknown/',\n",
    "#     'Rats/Rat_Quartus/',\n",
    "]\n",
    "sigma = 0.1; v_max_thr = 0.1;  d_thr = 5; T_seg = np.array([900,600]);\n",
    "\n",
    "for rfdn in erfdn:\n",
    "    epn    = np.load(rfdn+'tracking'+'/epn_track.npy');   \n",
    "#     print(rfdn, len(epn))\n",
    "#     bt.read_video   (rfdn, epn, fs, fps, sigma)\n",
    "#     bt.idol_segment (rfdn, epn, fps, v_max_thr, d_thr, T_seg)\n"
   ]
  },
  {
   "cell_type": "markdown",
   "metadata": {},
   "source": [
    "# read and post-process time series"
   ]
  },
  {
   "cell_type": "code",
   "execution_count": 5,
   "metadata": {},
   "outputs": [
    {
     "name": "stdout",
     "output_type": "stream",
     "text": [
      "Rats/Rat_Astro/ 17\n"
     ]
    },
    {
     "ename": "ValueError",
     "evalue": "could not broadcast input array from shape (0) into shape (332)",
     "output_type": "error",
     "traceback": [
      "\u001b[1;31m---------------------------------------------------------------------------\u001b[0m",
      "\u001b[1;31mValueError\u001b[0m                                Traceback (most recent call last)",
      "\u001b[1;32m<ipython-input-5-5da8ec949f76>\u001b[0m in \u001b[0;36m<module>\u001b[1;34m()\u001b[0m\n\u001b[0;32m     20\u001b[0m \u001b[1;31m#     rd.rm_artifact     (rfdn, epn, fs_out, subset, N_std);\u001b[0m\u001b[1;33m\u001b[0m\u001b[1;33m\u001b[0m\u001b[0m\n\u001b[0;32m     21\u001b[0m \u001b[1;31m#     rd.match_fps2fs_out(rfdn, epn, fs_out, N_h1)\u001b[0m\u001b[1;33m\u001b[0m\u001b[1;33m\u001b[0m\u001b[0m\n\u001b[1;32m---> 22\u001b[1;33m     \u001b[0mt2f\u001b[0m\u001b[1;33m.\u001b[0m\u001b[0mfft_frame\u001b[0m      \u001b[1;33m(\u001b[0m\u001b[0mrfdn\u001b[0m\u001b[1;33m,\u001b[0m \u001b[0mepn\u001b[0m\u001b[1;33m,\u001b[0m \u001b[0msubset\u001b[0m\u001b[1;33m,\u001b[0m \u001b[0mfs_out\u001b[0m\u001b[1;33m,\u001b[0m \u001b[0mN_h2\u001b[0m\u001b[1;33m)\u001b[0m\u001b[1;33m\u001b[0m\u001b[0m\n\u001b[0m\u001b[0;32m     23\u001b[0m \u001b[1;31m########### reading acceleration and deceleration segment ################\u001b[0m\u001b[1;33m\u001b[0m\u001b[1;33m\u001b[0m\u001b[0m\n\u001b[0;32m     24\u001b[0m \u001b[1;31m#     bt.ac_de_transit(rfdn, epn, fps, fs_out, v_max_thr, v_min_thr, d_min_thr, d_max_thr, Toi1, Toi2)\u001b[0m\u001b[1;33m\u001b[0m\u001b[1;33m\u001b[0m\u001b[0m\n",
      "\u001b[1;32mD:\\Dropbox\\Lab\\MotorCortex\\time2frequency.py\u001b[0m in \u001b[0;36mfft_frame\u001b[1;34m(rfdn, epn, subset, fs_out, N_h)\u001b[0m\n\u001b[0;32m    160\u001b[0m             \u001b[0mr\u001b[0m \u001b[1;33m=\u001b[0m \u001b[1;36m0\u001b[0m\u001b[1;33m\u001b[0m\u001b[0m\n\u001b[0;32m    161\u001b[0m             \u001b[1;32mfor\u001b[0m \u001b[0mj\u001b[0m \u001b[1;32min\u001b[0m \u001b[0midx\u001b[0m\u001b[1;33m:\u001b[0m\u001b[1;33m\u001b[0m\u001b[0m\n\u001b[1;32m--> 162\u001b[1;33m                 \u001b[0mX_f\u001b[0m\u001b[1;33m[\u001b[0m\u001b[0mr\u001b[0m\u001b[1;33m,\u001b[0m\u001b[1;33m:\u001b[0m\u001b[1;33m]\u001b[0m \u001b[1;33m=\u001b[0m \u001b[0mx_f\u001b[0m\u001b[1;33m[\u001b[0m\u001b[0mj\u001b[0m\u001b[1;33m-\u001b[0m\u001b[0mN_h\u001b[0m\u001b[1;33m:\u001b[0m\u001b[0mj\u001b[0m\u001b[1;33m+\u001b[0m\u001b[0mN_h\u001b[0m\u001b[1;33m]\u001b[0m\u001b[1;33m;\u001b[0m\u001b[1;33m\u001b[0m\u001b[0m\n\u001b[0m\u001b[0;32m    163\u001b[0m                 \u001b[0mr\u001b[0m \u001b[1;33m=\u001b[0m \u001b[0mr\u001b[0m\u001b[1;33m+\u001b[0m\u001b[1;36m1\u001b[0m\u001b[1;33m\u001b[0m\u001b[0m\n\u001b[0;32m    164\u001b[0m             \u001b[0mX_f\u001b[0m \u001b[1;33m=\u001b[0m \u001b[0mX_f\u001b[0m \u001b[1;33m*\u001b[0m \u001b[0mwindow\u001b[0m\u001b[1;33m[\u001b[0m\u001b[1;32mNone\u001b[0m\u001b[1;33m,\u001b[0m\u001b[1;33m:\u001b[0m\u001b[1;33m]\u001b[0m\u001b[1;33m;\u001b[0m\u001b[1;33m\u001b[0m\u001b[0m\n",
      "\u001b[1;31mValueError\u001b[0m: could not broadcast input array from shape (0) into shape (332)"
     ]
    }
   ],
   "source": [
    "Toi1 = 2; np.save('Toi1.npy', Toi1);\n",
    "Toi2 = 2; np.save('Toi2.npy', Toi2);\n",
    "Toi1 = int(Toi1*fps);\n",
    "Toi2 = int(Toi2*fps);\n",
    "v_max_thr = 0.25\n",
    "v_min_thr = 0.15\n",
    "d_min_thr = 1.3\n",
    "d_max_thr = 20\n",
    "\n",
    "fl = 0;  fh = 300;  check = False; N_std = 20; \n",
    "######## N_h1 >= N_h2 is required\n",
    "N_h1 = int((1/fps)/T/2*10); # the length discarded at the start and end of time series\n",
    "N_h2 = int(N_h1);\n",
    "for rfdn in erfdn:\n",
    "    epn    = np.load(rfdn+'tracking'+'/epn_ephy.npy');\n",
    "    subset = np.load(rfdn+'tracking'+'/subset_ephy.npy');\n",
    "    print(rfdn, len(epn))\n",
    "#     rd.rec2raw(rfdn, epn, subset);\n",
    "#     rd.raw2npy    (rfdn, epn, subset, fs, fl, fh, fs_out, check);\n",
    "#     rd.rm_artifact     (rfdn, epn, fs_out, subset, N_std);\n",
    "    rd.match_fps2fs_out(rfdn, epn, fs_out, N_h1)\n",
    "    t2f.fft_frame      (rfdn, epn, subset, fs_out, N_h2)\n",
    "########### reading acceleration and deceleration segment ################\n",
    "    bt.ac_de_transit(rfdn, epn, fps, fs_out, v_max_thr, v_min_thr, d_min_thr, d_max_thr, Toi1, Toi2)"
   ]
  },
  {
   "cell_type": "code",
   "execution_count": 2,
   "metadata": {},
   "outputs": [
    {
     "name": "stdout",
     "output_type": "stream",
     "text": [
      "Rats/Rat_Astro/ 17\n",
      "(17,)\n",
      "Rats/Rat_Outlaw/ 46\n",
      "(46,)\n",
      "Rats/Rat_Drifter/ 46\n",
      "(46,)\n",
      "Rats/Rat_Swashbuckler/ 15\n",
      "(15,)\n"
     ]
    }
   ],
   "source": [
    "erfdn = [\n",
    "    'Rats/Rat_Astro/',\n",
    "    'Rats/Rat_Outlaw/',\n",
    "    'Rats/Rat_Drifter/',\n",
    "    'Rats/Rat_Swashbuckler/',\n",
    "]\n",
    "fl = 10; fh = 55\n",
    "for rfdn in erfdn:\n",
    "    epn    = np.load(rfdn+'tracking'+'/epn_ephy_li.npy');\n",
    "    subset = np.load(rfdn+'tracking'+'/subset_ephy_li.npy');\n",
    "    print(rfdn, len(epn))\n",
    "    f   = np.load(rfdn +'f_fft.npy')\n",
    "    t2f.flicker_fit_fft(rfdn, epn, fs_out, subset, f, fl, fh)\n",
    "    "
   ]
  }
 ],
 "metadata": {
  "kernelspec": {
   "display_name": "Python 3",
   "language": "python",
   "name": "python3"
  },
  "language_info": {
   "codemirror_mode": {
    "name": "ipython",
    "version": 3
   },
   "file_extension": ".py",
   "mimetype": "text/x-python",
   "name": "python",
   "nbconvert_exporter": "python",
   "pygments_lexer": "ipython3",
   "version": "3.7.0"
  }
 },
 "nbformat": 4,
 "nbformat_minor": 2
}
