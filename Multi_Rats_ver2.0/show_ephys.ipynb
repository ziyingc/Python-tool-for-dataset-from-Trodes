{
 "cells": [
  {
   "cell_type": "code",
   "execution_count": 1,
   "metadata": {},
   "outputs": [
    {
     "name": "stdout",
     "output_type": "stream",
     "text": [
      "D:\\Dropbox\\Lab\\MotorCortex\\Multi_Rats_ver2.0\n",
      "D:\\Dropbox\\Lab\\MotorCortex\n"
     ]
    }
   ],
   "source": [
    "import warnings; warnings.filterwarnings(\"ignore\")\n",
    "import os;\n",
    "from sys import platform\n",
    "print(os.getcwd())\n",
    "if platform == \"darwin\":\n",
    "    os.chdir('/Users/ziyingc/Dropbox/Lab/MotorCortex')\n",
    "elif platform == \"win32\":\n",
    "    os.chdir('D:\\Dropbox\\Lab\\MotorCortex')\n",
    "print(os.getcwd())\n",
    "import numpy as np\n",
    "\n",
    "import matplotlib.pyplot as plt\n",
    "import matplotlib.lines as mlines\n",
    "from matplotlib.patches import Patch as patch\n",
    "from matplotlib.gridspec import GridSpec\n",
    "import matplotlib.cm as cm; import matplotlib.mlab as mlab\n",
    "from mpl_toolkits.axes_grid1.inset_locator import inset_axes\n",
    "\n",
    "from scipy import stats\n",
    "import read_data as rd\n",
    "import behavior_track as bt\n",
    "import turning_track  as tt\n",
    "import time2frequency as t2f\n",
    "if not os.path.exists('pic2'):\n",
    "    os.makedirs('pic2')\n",
    "\n",
    "fps = 30; fs_out = 1000; fs = 30000; T = 1/fs_out;"
   ]
  },
  {
   "cell_type": "code",
   "execution_count": 2,
   "metadata": {},
   "outputs": [
    {
     "name": "stdout",
     "output_type": "stream",
     "text": [
      "Rats/Rat_Swashbuckler/ 21 [0 4]\n",
      "Rats/Rat_Outlaw/ 61 [ 5 13]\n",
      "Rats/Rat_Drifter/ 52 [20 28]\n",
      "Rats/Rat_Unknown/ 15 [20  4]\n",
      "Rats/Rat_Quartus/ 29 [ 4 28]\n",
      "Rats/Rat_Lenny/ 11 [ 5 12]\n",
      "Rats/Rat_Astro/ 17 [ 5 12]\n"
     ]
    },
    {
     "data": {
      "text/plain": [
       "<Figure size 1440x576 with 0 Axes>"
      ]
     },
     "metadata": {},
     "output_type": "display_data"
    }
   ],
   "source": [
    "erfdn = np.load('Rats/Rats_ephy.npy')\n",
    "###################################\n",
    "mode = 'FFT'\n",
    "freqs = np.load('Rats/freqs_'+mode+'_'+str(fs_out)+'.npy');  x_fit = np.log10(freqs)\n",
    "idx_f2 = np.logical_and(freqs>=7.5, freqs<=30)\n",
    "for rfdn in erfdn:\n",
    "    epn    = np.load(rfdn+'tracking'+'/epn_ephy.npy');\n",
    "    subset = np.load(rfdn+'tracking'+'/subset_ephy_li.npy');\n",
    "    print(rfdn, len(epn), subset)\n",
    "\n",
    "    ii = 0\n",
    "    for k in epn:\n",
    "        fdn = rfdn + k + '/'\n",
    "        idx_clean_fft  = np.load(fdn+'tracking/'+'idx_clean_fft.npy')\n",
    "        idx_clean_fft_not = np.logical_not(idx_clean_fft)\n",
    "        \n",
    "        txt_cwt  = np.round(np.sum(idx_clean_fft)/len(idx_clean_fft),5)\n",
    "        idx_clean = idx_clean_fft\n",
    "        \n",
    "        y_clean_cwt  = np.ones((len(idx_clean),1))*0.5\n",
    "\n",
    "        ts = np.load(fdn+'tracking/'+'ts_f.npy'); XY = np.load(fdn+'tracking/'+'XY_f.npy')\n",
    "\n",
    "        ii = ii + 1\n",
    "\n",
    "        fig = plt.figure(1, figsize=(20, 8))\n",
    "        gs = GridSpec(8, 8);\n",
    "        ax_idx = gs[6:8, 0:7];ax = fig.add_subplot(ax_idx);\n",
    "        ax.plot(ts[idx_clean_fft],    y_clean_cwt[idx_clean_fft],    'b.',ms = 0.05)\n",
    "        ax.plot(ts[idx_clean_fft_not],y_clean_cwt[idx_clean_fft_not],'r*',ms = 1, label = 'fft'+str(txt_cwt))\n",
    "\n",
    "        ax.legend(loc = 'upper left', fontsize = 8)\n",
    "        ax.set_xlim(ts[[0,-1]]);ax.set_ylim([0,5])\n",
    "        idx_t = np.arange(len(ts))\n",
    "        idx_clean_th = idx_t>-1\n",
    "        l_t = len(ts)\n",
    "        \n",
    "        jj = 0\n",
    "        for i in subset:\n",
    "            chn   = str(i//10)+str(i%10)\n",
    "            Sxx_f = np.load(fdn + mode+'_'+str(fs_out)+'/ch.'+chn+'.fps.npy').T\n",
    "            ax_idx = gs[jj*3:(jj+1)*3,0:7];ax = fig.add_subplot(ax_idx);\n",
    "            Sxx_f[:,idx_clean_fft_not] = 0\n",
    "            im = ax.pcolormesh(ts, freqs[idx_f2], Sxx_f[idx_f2, :], \n",
    "                               vmin = 0, vmax = 500,\n",
    "                               cmap=cm.jet);\n",
    "#             fig.colorbar(im, ax=ax);\n",
    "\n",
    "            ax.set_ylabel('Hz', fontsize = 15);\n",
    "            ax.tick_params(labelsize=12);\n",
    "            ax.set_title(chn, fontsize = 15)\n",
    "            jj=jj+1\n",
    "\n",
    "        plt.savefig(rfdn+'pic2/'+k+'_scalogram_fft.png')\n",
    "        plt.clf()"
   ]
  },
  {
   "cell_type": "code",
   "execution_count": 3,
   "metadata": {},
   "outputs": [],
   "source": [
    "erfdn = [\n",
    "    'Rats/Rat_Astro/',\n",
    "    'Rats/Rat_Drifter/',\n",
    "    'Rats/Rat_Lenny/',\n",
    "    'Rats/Rat_Quartus/',\n",
    "    'Rats/Rat_Unknown/',\n",
    "    'Rats/Rat_Outlaw/',\n",
    "    'Rats/Rat_Swashbuckler/',\n",
    "]"
   ]
  },
  {
   "cell_type": "code",
   "execution_count": 2,
   "metadata": {},
   "outputs": [
    {
     "name": "stdout",
     "output_type": "stream",
     "text": [
      "[0 1 4 5]\n"
     ]
    },
    {
     "ename": "NameError",
     "evalue": "name 'idx_idol_f' is not defined",
     "output_type": "error",
     "traceback": [
      "\u001b[1;31m---------------------------------------------------------------------------\u001b[0m",
      "\u001b[1;31mNameError\u001b[0m                                 Traceback (most recent call last)",
      "\u001b[1;32m<ipython-input-2-f9013c2dcaee>\u001b[0m in \u001b[0;36m<module>\u001b[1;34m()\u001b[0m\n\u001b[0;32m     14\u001b[0m         \u001b[0mfdn\u001b[0m \u001b[1;33m=\u001b[0m \u001b[0mrfdn\u001b[0m \u001b[1;33m+\u001b[0m \u001b[0mk\u001b[0m \u001b[1;33m+\u001b[0m \u001b[1;34m'/'\u001b[0m\u001b[1;33m;\u001b[0m\u001b[1;33m\u001b[0m\u001b[0m\n\u001b[0;32m     15\u001b[0m         \u001b[0midx_clean_f\u001b[0m \u001b[1;33m=\u001b[0m \u001b[0mnp\u001b[0m\u001b[1;33m.\u001b[0m\u001b[0mload\u001b[0m\u001b[1;33m(\u001b[0m\u001b[0mfdn\u001b[0m\u001b[1;33m+\u001b[0m\u001b[1;34m'tracking/'\u001b[0m\u001b[1;33m+\u001b[0m\u001b[1;34m'idx_clean_f.npy'\u001b[0m\u001b[1;33m)\u001b[0m\u001b[1;33m\u001b[0m\u001b[0m\n\u001b[1;32m---> 16\u001b[1;33m         \u001b[0midx_clean\u001b[0m   \u001b[1;33m=\u001b[0m \u001b[0mnp\u001b[0m\u001b[1;33m.\u001b[0m\u001b[0mlogical_and\u001b[0m\u001b[1;33m(\u001b[0m\u001b[0midx_clean_f\u001b[0m\u001b[1;33m,\u001b[0m \u001b[0midx_idol_f\u001b[0m\u001b[1;33m)\u001b[0m\u001b[1;33m\u001b[0m\u001b[0m\n\u001b[0m\u001b[0;32m     17\u001b[0m         \u001b[0max_idx\u001b[0m \u001b[1;33m=\u001b[0m \u001b[0mgs\u001b[0m\u001b[1;33m[\u001b[0m\u001b[0mjj\u001b[0m\u001b[1;33m]\u001b[0m\u001b[1;33m;\u001b[0m\u001b[0max\u001b[0m \u001b[1;33m=\u001b[0m \u001b[0mfig\u001b[0m\u001b[1;33m.\u001b[0m\u001b[0madd_subplot\u001b[0m\u001b[1;33m(\u001b[0m\u001b[0max_idx\u001b[0m\u001b[1;33m)\u001b[0m\u001b[1;33m;\u001b[0m\u001b[1;33m\u001b[0m\u001b[0m\n\u001b[0;32m     18\u001b[0m         \u001b[0mii\u001b[0m \u001b[1;33m=\u001b[0m \u001b[1;36m0\u001b[0m\u001b[1;33m\u001b[0m\u001b[0m\n",
      "\u001b[1;31mNameError\u001b[0m: name 'idx_idol_f' is not defined"
     ]
    },
    {
     "data": {
      "text/plain": [
       "<Figure size 1152x1152 with 0 Axes>"
      ]
     },
     "metadata": {},
     "output_type": "display_data"
    }
   ],
   "source": [
    "\n",
    "erfdn = np.load('Rats/Rats_ephy.npy')\n",
    "f = np.load('Rats/freqs_FFT_'+str(fs_out)+'.npy');\n",
    "\n",
    "j = 0\n",
    "for rfdn in erfdn:\n",
    "    epn    = np.load(rfdn+'tracking'+'/epn_ephy.npy');\n",
    "    subset = np.load(rfdn+'tracking'+'/subset_ephy.npy');\n",
    "    print(subset)\n",
    "    rc  = int(np.sqrt(len(epn)))+1\n",
    "    fig = plt.figure(1, figsize=(rc*4, rc*4))\n",
    "    gs  = GridSpec(rc , rc);jj = 0\n",
    "    for k in epn:\n",
    "        fdn = rfdn + k + '/';\n",
    "        idx_clean_f = np.load(fdn+'tracking/'+'idx_clean_f.npy')\n",
    "        idx_clean   = np.logical_and(idx_clean_f, idx_idol_f)        \n",
    "        ax_idx = gs[jj];ax = fig.add_subplot(ax_idx);  \n",
    "        ii = 0\n",
    "        for i in subset: \n",
    "            chn = str(i//10)+str(i%10);\n",
    "\n",
    "            Y_f = np.load(fdn + 'FFT_'+str(fs_out)+'/ch.'+chn+'.fps.npy');\n",
    "            psd = np.mean(Y_f[idx_clean,:], axis=0)\n",
    "            ax.plot(f, psd, label = chn, lw=0.5);   ii = ii+1\n",
    "            ax.set_ylim([1, 80]); ax.set_xlim([3,55])\n",
    "\n",
    "        ax.tick_params(labelsize=8);\n",
    "        ax.set_title(k[10:21], fontsize = 10);\n",
    "        jj=jj+1\n",
    "    ax.legend()\n",
    "    plt.savefig('pic2/BBB_'+rfdn[9:len(rfdn)-1]+'.png')\n",
    "    plt.clf()\n"
   ]
  },
  {
   "cell_type": "code",
   "execution_count": 8,
   "metadata": {},
   "outputs": [
    {
     "name": "stdout",
     "output_type": "stream",
     "text": [
      "[  2.   4.   6.   8.  10.  12.  14.  16.  18.  20.]\n"
     ]
    },
    {
     "data": {
      "text/plain": [
       "<Figure size 864x864 with 0 Axes>"
      ]
     },
     "metadata": {},
     "output_type": "display_data"
    }
   ],
   "source": [
    "txt_line = ['b' , 'r']\n",
    "txt_tn   = ['lesion','intact']\n",
    "fl = 20; fh = 50\n",
    "erfdn = np.load('Rats/Rats_ephy.npy')\n",
    "f = np.load('Rats/freqs_FFT_'+str(fs_out)+'.npy');     print(f[0:10])\n",
    "j = 0\n",
    "for rfdn in erfdn:\n",
    "#     epn    = np.load(rfdn+'tracking'+'/epn_LT.npy');\n",
    "#     epn    = np.load(rfdn+'tracking'+'/epn_turn_elec_post.npy');\n",
    "    epn    = np.load(rfdn+'tracking'+'/epn_ephy.npy');\n",
    "    subset = np.load(rfdn+'tracking'+'/subset_ephy_li.npy');\n",
    "\n",
    "    rc = int(np.sqrt(len(epn)))+1\n",
    "    fig = plt.figure(1, figsize=(rc*3, rc*3))\n",
    "    gs  = GridSpec(rc , rc);jj = 0\n",
    "\n",
    "    for k in epn:\n",
    "        fdn = rfdn + k + '/'\n",
    "        idx_clean_f = np.load(fdn+'tracking/'+'idx_clean_f.npy')\n",
    "        idx_clean_fft = np.load(fdn+'tracking/'+'idx_clean_fft.npy')\n",
    "        idx_clean = np.logical_and(idx_clean_f,   idx_clean_fft)\n",
    " \n",
    "        ax_idx = gs[jj];ax = fig.add_subplot(ax_idx);\n",
    "        ii = 0\n",
    "        for i in subset: \n",
    "            chn = str(i//10)+str(i%10);   \n",
    "            Y_f = np.load(fdn + 'FFT_'+str(fs_out)+'/ch.'+chn+'.fps.npy')\n",
    "            psd = np.mean(Y_f[idx_clean,:],axis=0);\n",
    "#             psd = np.mean(Y_f[idx_clean,:],axis=0)\n",
    "            ax.plot(f, psd, label = chn);ii = ii+1\n",
    "            ax.set_ylim([10, 100])\n",
    "            ax.set_xlim([5, 60]);\n",
    "#             ax.set_ylim([-0.5, 0.5]) \n",
    "\n",
    "        ax.tick_params(labelsize=8);\n",
    "        ax.set_title(k[10:21], fontsize = 10);\n",
    "        jj=jj+1\n",
    "    chn0 = str(subset[0]//10)+str(subset[0]%10);\n",
    "    chn1 = str(subset[1]//10)+str(subset[1]%10);\n",
    "    ax.legend()\n",
    "    plt.savefig('pic2/BBB_2chs_'+rfdn[9:len(rfdn)-1]+'_'+chn0+chn1+'.png')\n",
    "    plt.clf()"
   ]
  },
  {
   "cell_type": "code",
   "execution_count": 11,
   "metadata": {},
   "outputs": [
    {
     "data": {
      "text/plain": [
       "<Figure size 2304x2304 with 0 Axes>"
      ]
     },
     "metadata": {},
     "output_type": "display_data"
    }
   ],
   "source": [
    "txt_line = ['b' , 'r']\n",
    "txt_tn = ['lesion','intact']\n",
    "fl = 18; fh = 50\n",
    "erfdn = np.load('Rats/Rats_ephy.npy')\n",
    "\n",
    "\n",
    "mode = 'FFT'\n",
    "f = np.load('Rats/freqs_'+mode+'_'+str(fs_out)+'.npy');  \n",
    "for rfdn in erfdn:\n",
    "    epn    = np.load(rfdn+'tracking'+'/epn_ephy.npy');\n",
    "    subset = np.load(rfdn+'tracking'+'/subset_ephy_li.npy');   \n",
    "#     idx_f1 = np.logical_and(f>=fl, f<=26);\n",
    "#     idx_f2 = np.logical_and(f>=42, f<=fh);\n",
    "#     idx_f = np.logical_or(idx_f1, idx_f2);\n",
    "    idx_f = np.logical_and(f>=fl, f<=fh);\n",
    "    slope_l, intercept_l, slope_i, intercept_i, intercept_li = \\\n",
    "    t2f.flicker_fit_fft(rfdn, epn, fs_out, subset, f, idx_f, mode)\n",
    "    slope     = np.array([slope_l,     slope_i]);\n",
    "    intercept = np.array([intercept_l, intercept_i]);\n",
    "    \n",
    "    rc = int(np.sqrt(len(epn)))+1\n",
    "    fig = plt.figure(1, figsize=(rc*4, rc*4))\n",
    "    gs  = GridSpec(rc , rc);jj = 0\n",
    "\n",
    "    Psd    = np.zeros((len(epn)*2, len(f)));\n",
    "\n",
    "    for k in epn:\n",
    "        fdn = rfdn + k + '/'\n",
    "        idx_clean_f = np.load(fdn+'tracking/'+'idx_clean_f.npy')\n",
    "        idx_idol_f  = np.load(fdn+'tracking/'+'idx_idol_f.npy')\n",
    "        idx_clean = np.logical_and(idx_clean_f, idx_idol_f)\n",
    "#         idx_clean_cwt = np.load(fdn+'tracking/'+'idx_clean_cwt.npy')\n",
    "#         idx_clean = np.logical_and(idx_clean,   idx_clean_cwt)\n",
    "        ax_idx = gs[jj];\n",
    "        ax     = fig.add_subplot(ax_idx);  \n",
    "        ii = 0\n",
    "        for i in subset: \n",
    "            chn = str(i//10)+str(i%10);   \n",
    "            Y_f = np.load(fdn + 'FFT_'+str(fs_out)+'/ch.'+chn+'.fps.npy')\n",
    "            psd = np.mean(Y_f[idx_clean,:],axis=0)\n",
    "            ax.plot(np.log10(f), np.log10(psd), txt_line[ii], lw=1,label = chn)   \n",
    "#             ax.set_ylim([1.0, 1.7]); ax.set_xlim([np.log10(fl), np.log10(fh)])\n",
    "            ax.set_ylim([0.5, 2]); ax.set_xlim([0.5, 2])\n",
    "#             ax.set_xlim([1.2, 1.9])\n",
    "            Psd[jj*2+ii,:] = psd\n",
    "            ii = ii+1\n",
    "        ax.tick_params(labelsize=8);\n",
    "        ax.set_title(k[10:21], fontsize = 8);\n",
    "        jj=jj+1\n",
    "\n",
    "    jj = 0\n",
    "    x_fit = np.log10(f[idx_f])\n",
    "    for k in epn:\n",
    "        fdn = rfdn + k + '/'\n",
    "        ax_idx = gs[jj];ax = fig.add_subplot(ax_idx);  \n",
    "        y_fit = x_fit*slope_l[jj] + intercept_l[jj]; \n",
    "        ax.plot(x_fit, y_fit, txt_line[0]+'.', ms = 1);\n",
    "        y_fit = x_fit*slope_i[jj] + intercept_i[jj]; \n",
    "        ax.plot(x_fit, y_fit, txt_line[1]+'.', ms = 1);\n",
    "        jj=jj+1\n",
    "    ax.legend()\n",
    "    plt.savefig('pic2/BBB_2chs_'+rfdn[9:len(rfdn)-1]+'_fit.png')\n",
    "    plt.clf()"
   ]
  },
  {
   "cell_type": "code",
   "execution_count": 18,
   "metadata": {},
   "outputs": [
    {
     "name": "stdout",
     "output_type": "stream",
     "text": [
      "(2, 52) (2, 52)\n"
     ]
    },
    {
     "name": "stderr",
     "output_type": "stream",
     "text": [
      "No handles with labels found to put in legend.\n"
     ]
    },
    {
     "name": "stdout",
     "output_type": "stream",
     "text": [
      "(2, 5) (2, 5)\n"
     ]
    },
    {
     "name": "stderr",
     "output_type": "stream",
     "text": [
      "No handles with labels found to put in legend.\n"
     ]
    },
    {
     "name": "stdout",
     "output_type": "stream",
     "text": [
      "(2, 15) (2, 15)\n"
     ]
    },
    {
     "name": "stderr",
     "output_type": "stream",
     "text": [
      "No handles with labels found to put in legend.\n"
     ]
    },
    {
     "name": "stdout",
     "output_type": "stream",
     "text": [
      "(2, 38) (2, 38)\n"
     ]
    },
    {
     "name": "stderr",
     "output_type": "stream",
     "text": [
      "No handles with labels found to put in legend.\n"
     ]
    },
    {
     "data": {
      "text/plain": [
       "<Figure size 864x576 with 0 Axes>"
      ]
     },
     "metadata": {},
     "output_type": "display_data"
    }
   ],
   "source": [
    "# erfdn = np.load('Rats/Rats_LT.npy')\n",
    "erfdn = np.load('Rats/Rats_Turn.npy')\n",
    "txt_line = ['b' , 'r']\n",
    "txt_tn = ['lesion','intact']\n",
    "f = np.load('freqs_fft_'+str(fs_out)+'.npy');   x_fit = np.log10(f)\n",
    "fl = 14; fh = 54\n",
    "for rfdn in erfdn:\n",
    "#     epn    = np.load(rfdn+'tracking'+'/epn_LT_post.npy');\n",
    "    epn    = np.load(rfdn+'tracking'+'/epn_turn_elec_post.npy');\n",
    "    subset = np.load(rfdn+'tracking'+'/subset_ephy_li.npy');\n",
    "#     idx_f1 = np.logical_and(f>=fl, f<=26);\n",
    "#     idx_f2 = np.logical_and(f>=42, f<=fh);\n",
    "#     idx_f = np.logical_or(idx_f1, idx_f2);\n",
    "    idx_f = np.logical_and(f>=fl, f<=fh);\n",
    "    slope_l, intercept_l, slope_i, intercept_i, intercept_li = \\\n",
    "    t2f.flicker_fit_fft(rfdn, epn, fs_out, subset, f, idx_f)\n",
    "    \n",
    "    slope     = np.array([slope_l,     slope_i]);\n",
    "    intercept = np.array([intercept_l, intercept_i]);\n",
    "    print(slope.shape, intercept.shape)\n",
    "    fig = plt.figure(1, figsize=(12,8))\n",
    "    gs = GridSpec(2, 3);\n",
    "    fig.suptitle(rfdn+', Power spectrum of '+str(len(epn))+' sessions', fontsize=20)\n",
    "\n",
    "    jj = 0\n",
    "    for k in epn:\n",
    "        fdn = rfdn + k + '/'\n",
    "        idx_clean_f = np.load(fdn+'tracking/'+'idx_clean_f.npy')\n",
    "        idx_idol_f  = np.load(fdn+'tracking/'+'idx_idol_f.npy')\n",
    "        idx_clean   = np.logical_and(idx_clean_f, idx_idol_f)\n",
    "        idx_clean_f_cwt = np.load(fdn+'tracking/'+'idx_clean_cwt.npy')\n",
    "        idx_clean    = np.logical_and(idx_clean, idx_clean_f_cwt)\n",
    "        \n",
    "        i = subset[1]\n",
    "        chn    = str(i//10)+str(i%10)\n",
    "        Y_f = np.load(fdn + 'FFT_'+str(fs_out)+'/ch.'+chn+'.fps.npy').T\n",
    "        psd_mean = np.mean(Y_f[:,idx_clean],axis=1);\n",
    "        psd_std = np.std(Y_f[:,idx_clean],axis=1);\n",
    "\n",
    "        psd_m = np.zeros([2, len(f)])\n",
    "        psd_f = np.zeros([2, len(f)])\n",
    "        psd_z = np.zeros([2, len(f)])\n",
    "        ii = 0\n",
    "        for i in subset:\n",
    "            \n",
    "            chn    = str(i//10)+str(i%10)\n",
    "            Y_f = np.load(fdn + 'FFT_'+str(fs_out)+'/ch.'+chn+'.fps.npy').T         \n",
    "\n",
    "            psd = np.mean(Y_f[:,idx_clean],axis=1);\n",
    "            ax_idx = gs[0, 0];ax = fig.add_subplot(ax_idx);\n",
    "            ax.plot(f, psd, txt_line[ii], lw = 0.8);\n",
    "            psd_m[ii,:] = psd\n",
    "            \n",
    "            y_fit = 10**(x_fit*slope[ii,jj] + intercept[ii,jj]);\n",
    "            Y_f_fit = (Y_f.T/y_fit).T\n",
    "            psd = np.mean(Y_f_fit[:,idx_clean],axis=1);\n",
    "            ax_idx = gs[0, 1];ax = fig.add_subplot(ax_idx);\n",
    "            ax.plot(f, psd, txt_line[ii], lw = 0.8);\n",
    "            psd_f[ii,:] = psd\n",
    "\n",
    "            Y_f_z = ((Y_f.T-psd_mean)/psd_std).T\n",
    "            psd = np.mean(Y_f_z[:,idx_clean],axis=1);\n",
    "            ax_idx = gs[0, 2];ax = fig.add_subplot(ax_idx);\n",
    "            ax.plot(f, psd, txt_line[ii], lw = 0.8);\n",
    "            psd_z[ii,:] = psd\n",
    "\n",
    "            ii = ii+1\n",
    "\n",
    "        jj = jj+1\n",
    "\n",
    "        ax_idx = gs[1, 1];ax = fig.add_subplot(ax_idx);\n",
    "        ax.plot(f, psd_f[0,:]-psd_f[1,:], txt_line[0], lw = 0.8);\n",
    "\n",
    "\n",
    "    ax_idx = gs[0,0];ax = fig.add_subplot(ax_idx);ax.set_xlabel('Hz');  ax.legend();\n",
    "    ax.set_title('Power Spectrum', fontsize=7);\n",
    "    ax.set_xlim([fl, fh]); ax.set_ylim([0,100])\n",
    "    ax_idx = gs[0,1];ax = fig.add_subplot(ax_idx);ax.set_xlabel('Hz');\n",
    "    ax.set_title('Power Spectrum, Normalized to 1/f noise', fontsize=7);\n",
    "    ax.set_xlim([fl, fh]); ax.set_ylim([0, 4])\n",
    "    \n",
    "    ax_idx = gs[1,1];ax = fig.add_subplot(ax_idx);ax.set_xlabel('Hz');\n",
    "    ax.set_title('Power Spectrum, Normalized to 1/f noise', fontsize=7);\n",
    "    ax.set_xlim([fl, fh]); ax.set_ylim([-0.2, 0.5])\n",
    "    \n",
    "    ax_idx = gs[0,2];ax = fig.add_subplot(ax_idx);ax.set_xlabel('Hz');\n",
    "    ax.set_title('Power Spectrum, Normalized (x-m)/sigma)', fontsize=7);\n",
    "    ax.set_xlim([fl, fh]); ax.set_ylim([-0.5,1.5])\n",
    "    plt.savefig('pic2/BBB_fit_'+rfdn[9:len(rfdn)-1]+'.png')\n",
    "    plt.clf()"
   ]
  },
  {
   "cell_type": "code",
   "execution_count": 11,
   "metadata": {},
   "outputs": [],
   "source": [
    "\n",
    "import shutil\n",
    "# erfdn = np.load('Rats/Rats_ephy.npy')\n",
    "# erfdn = np.load('Rats/Rats_LT.npy')\n",
    "# erfdn = np.load('Rats/Rats_Turn.npy')\n",
    "# erfdn = np.load('Rats/Rats_Turn_ephy.npy')\n",
    "for rfdn in erfdn:\n",
    "    epn    = np.load(rfdn+'tracking'+'/epn_ephy_li_post.npy');\n",
    "#     epn    = np.load(rfdn+'tracking'+'/epn_turn_elec_post.npy');\n",
    "#     epn    = np.load(rfdn+'tracking'+'/epn_LT_post.npy');\n",
    "#     epn    = np.load(rfdn+'tracking'+'/epn_track.npy');\n",
    "#     subset = np.load(rfdn+'tracking'+'/subset_ephy_li.npy');\n",
    "    for k in epn:\n",
    "        fdn = rfdn + k + '/'\n",
    "#         try:\n",
    "#             shutil.rmtree(fdn + 'FFT_'+str(500))\n",
    "#         except:\n",
    "#             print('no beta')\n",
    "            "
   ]
  },
  {
   "cell_type": "code",
   "execution_count": 2,
   "metadata": {},
   "outputs": [
    {
     "name": "stdout",
     "output_type": "stream",
     "text": [
      "Rats/Rat_Outlaw/ 62 [ 5 13]\n",
      "Rats/Rat_Swashbuckler/ 23 [0 4]\n",
      "Rats/Rat_Drifter/ 66 [20 28]\n",
      "Rats/Rat_Unknown/ 16 [20  4]\n",
      "Rats/Rat_Quartus/ 29 [ 4 28]\n",
      "Rats/Rat_Astro/ 17 [ 5 12]\n",
      "Rats/Rat_Lenny/ 11 [ 5 12]\n"
     ]
    },
    {
     "data": {
      "text/plain": [
       "<Figure size 1440x576 with 0 Axes>"
      ]
     },
     "metadata": {},
     "output_type": "display_data"
    }
   ],
   "source": []
  },
  {
   "cell_type": "code",
   "execution_count": 3,
   "metadata": {},
   "outputs": [
    {
     "data": {
      "text/plain": [
       "<Figure size 1800x720 with 0 Axes>"
      ]
     },
     "metadata": {},
     "output_type": "display_data"
    }
   ],
   "source": [
    "# erfdn = np.load('Rats/Rats_ephy.npy')\n",
    "# erfdn = np.load('Rats/Rats_LT.npy')\n",
    "# erfdn = np.load('Rats/Rats_Turn.npy')\n",
    "# erfdn = np.load('Rats/Rats_Turn_ephy.npy')\n",
    "erfdn = np.load('Rats/Rats_LT_ephy.npy')\n",
    "\n",
    "# erfdn = [\n",
    "#     'Rats/Rat_Swashbuckler/',\n",
    "# ]\n",
    "###################################\n",
    "f = np.load('freqs_fft_'+str(fs_out)+'.npy');   x_fit = np.log10(f)\n",
    "fl = 12; fh = 56\n",
    "idx_f1 = np.logical_and(f>=fl, f<=22);\n",
    "idx_f2 = np.logical_and(f>=46, f<=fh);\n",
    "idx_f = np.logical_or(idx_f1, idx_f2);\n",
    "\n",
    "idx_band  = np.logical_and(f>=5, f<=55)\n",
    "for rfdn in erfdn:\n",
    "#     epn    = np.load(rfdn+'tracking'+'/epn_ephy_li_post.npy');\n",
    "#     epn    = np.load(rfdn+'tracking'+'/epn_turn_elec_post.npy');\n",
    "    epn    = np.load(rfdn+'tracking'+'/epn_LT_post.npy');\n",
    "    subset = np.load(rfdn+'tracking'+'/subset_ephy_li.npy');\n",
    "\n",
    "    slope_l, intercept_l, slope_i, intercept_i, intercept_li = \\\n",
    "    t2f.flicker_fit_fft(rfdn, epn, fs_out, subset, f, idx_f)\n",
    "    slope     = np.array([slope_l,     slope_i]);\n",
    "    intercept = np.array([intercept_l, intercept_i]);\n",
    "\n",
    "    kk = 0\n",
    "    for k in epn:\n",
    "        fdn = rfdn + k + '/'\n",
    "        idx_clean_cwt  = np.load(fdn+'tracking/'+'idx_clean_cwt.npy')\n",
    "        idx_idol       = np.load(fdn+'tracking/'+'idx_idol_f.npy')\n",
    "        idx_clean_cwt_not = np.logical_not(idx_clean_cwt)\n",
    "        idx_idol_not      = np.logical_not(idx_idol)\n",
    "        \n",
    "        txt_cwt  = np.round(np.sum(idx_clean_cwt)/len(idx_clean_cwt),5)\n",
    "        txt_idle = np.round(np.sum(idx_idol)/len(idx_idol),5)\n",
    "        idx_clean = np.logical_and(idx_clean_cwt, idx_idol)\n",
    "        y_clean_cwt  = np.ones((len(idx_clean),1))*0.5\n",
    "        y_clean_idle = np.ones((len(idx_clean),1))*1\n",
    "        timestamps = np.load(fdn+'tracking/'+'ts_f.npy')\n",
    "        XY         = np.load(fdn+'tracking/'+'XY_f.npy')\n",
    "\n",
    "        \n",
    "        i = subset[1];   chn = str(i//10)+str(i%10)\n",
    "        Sxx_f = np.load(fdn + 'CWT_'+str(fs_out)+'/ch.'+chn+'.fps.npy')\n",
    "        Sxx_f_m = np.mean(Sxx_f[idx_clean,:],axis=0);\n",
    "        Sxx_f_s = np.std(Sxx_f[idx_clean,:], axis=0);\n",
    "#         print(Sxx_f.shape, Sxx_f_m.shape, Sxx_f_s.shape)\n",
    "\n",
    "\n",
    "        fig = plt.figure(1, figsize=(25, 10))\n",
    "        fig.suptitle(k, fontsize=15)\n",
    "        gs = GridSpec(8, 8);\n",
    "        ax_idx = gs[6:8, 0:7];ax = fig.add_subplot(ax_idx);\n",
    "        ax.plot(timestamps[idx_clean_cwt],    y_clean_cwt[idx_clean_cwt],    'b.',ms = 0.05)\n",
    "        ax.plot(timestamps[idx_clean_cwt_not],y_clean_cwt[idx_clean_cwt_not],'r*',ms = 1, label = 'cwt'+str(txt_cwt))\n",
    "        ax.plot(timestamps[idx_idol],    y_clean_idle[idx_idol],    'b.',ms = 0.05)\n",
    "        ax.plot(timestamps[idx_idol_not],y_clean_idle[idx_idol_not],'k*',ms = 1, label = 'idle'+str(txt_idle))\n",
    "        ax.legend(loc = 'upper left', fontsize = 10)\n",
    "        ax.set_xlim(timestamps[[0,-1]]);ax.set_ylim([0,3])\n",
    "        idx_t = np.arange(len(timestamps))\n",
    "        idx_clean_th = idx_t>-1\n",
    "        l_t = len(timestamps)\n",
    "        ii = 0\n",
    "        for i in subset:\n",
    "            chn    = str(i//10)+str(i%10)\n",
    "            Y_f = np.load(fdn + 'FFT_'+str(fs_out)+'/ch.'+chn+'.fps.npy').T\n",
    "            y_fit = 10**(x_fit*slope[ii,kk] + intercept[ii,kk]);     \n",
    "            Sxx_f = (Y_f.T/y_fit).T\n",
    "#         for i in subset:\n",
    "#             chn   = str(i//10)+str(i%10)\n",
    "#             Sxx_f = np.load(fdn + 'CWT_'+str(fs_out)+'/ch.'+chn+'.fps.npy')\n",
    "#             Sxx_f = ((Sxx_f - Sxx_f_m)/Sxx_f_s).T\n",
    "            \n",
    "            ax_idx = gs[ii*3:(ii+1)*3,0:7];ax = fig.add_subplot(ax_idx);  \n",
    "            im = ax.pcolormesh(timestamps, f[idx_band], Sxx_f[idx_band, :], \n",
    "                               vmin = 0, vmax = 20,\n",
    "                               cmap=cm.jet);\n",
    "#             fig.colorbar(im, ax=ax);\n",
    "\n",
    "            ax.set_ylabel('Hz'); \n",
    "            ax.tick_params(labelsize=8);\n",
    "            ax.set_title(chn, fontsize = 15)\n",
    "\n",
    "            ii=ii+1\n",
    "\n",
    "        plt.savefig(rfdn+'pic2/'+k+'_scalogram_fit.png')\n",
    "        plt.clf()"
   ]
  },
  {
   "cell_type": "code",
   "execution_count": 10,
   "metadata": {},
   "outputs": [
    {
     "name": "stdout",
     "output_type": "stream",
     "text": [
      "(2, 11) (2, 11)\n"
     ]
    },
    {
     "data": {
      "text/plain": [
       "<Figure size 1080x360 with 0 Axes>"
      ]
     },
     "metadata": {},
     "output_type": "display_data"
    }
   ],
   "source": [
    "txt_line = ['b' , 'r']\n",
    "txt_tn = ['lesion','intact']\n",
    "fl = 14; fh = 54\n",
    "fig = plt.figure(1, figsize=(15,5*len(erfdn)))\n",
    "gs = GridSpec(len(erfdn), 3);\n",
    "kk = 0\n",
    "for rfdn in erfdn:\n",
    "    epn    = np.load(rfdn+'tracking'+'/epn_ephy_li_post.npy');\n",
    "    subset = np.load(rfdn+'tracking'+'/subset_ephy_li.npy');\n",
    "    f      = np.load(rfdn +'f_fft.npy');    x_fit = np.log10(f)\n",
    "#     idx_f1 = np.logical_and(f>=fl, f<=26);\n",
    "#     idx_f2 = np.logical_and(f>=42, f<=fh);\n",
    "#     idx_f = np.logical_or(idx_f1, idx_f2);\n",
    "    idx_f = np.logical_and(f>=fl, f<=fh);\n",
    "    slope_l, intercept_l, slope_i, intercept_i, intercept_li = \\\n",
    "    t2f.flicker_fit_fft(rfdn, epn, fs_out, subset, f, idx_f)\n",
    "    \n",
    "    slope     = np.array([slope_l,     slope_i]);\n",
    "    intercept = np.array([intercept_l, intercept_i]);\n",
    "    print(slope.shape, intercept.shape)\n",
    "#     fig = plt.figure(1, figsize=(12,8))\n",
    "#     gs = GridSpec(2, 3);\n",
    "#     fig.suptitle(rfdn+', Power spectrum of '+str(len(epn))+' sessions', fontsize=20)\n",
    "\n",
    "    jj = 0\n",
    "    for k in epn:\n",
    "        fdn = rfdn + k + '/'\n",
    "        idx_clean_f = np.load(fdn+'tracking/'+'idx_clean_f.npy')\n",
    "        idx_idol_f  = np.load(fdn+'tracking/'+'idx_idol_f.npy')\n",
    "        idx_clean = np.logical_and(idx_clean_f, idx_idol_f)\n",
    "        idx_clean_f_cwt = np.load(fdn+'tracking/'+'idx_clean_cwt.npy')\n",
    "        idx_clean = np.logical_and(idx_clean, idx_clean_f_cwt)\n",
    "        \n",
    "        ii = 0\n",
    "\n",
    "#         y_fit = 10**(x_fit*slope_i[jj] + intercept_i[jj]);\n",
    "        i = subset[1]; chn    = str(i//10)+str(i%10)\n",
    "        Y_f = np.load(fdn + 'FFT_'+str(fs_out)+'/ch.'+chn+'.P_ft.npy').T\n",
    "        psd_mean = np.mean(Y_f[:,idx_clean],axis=1);\n",
    "        psd_std = np.std(Y_f[:,idx_clean],axis=1);\n",
    "        \n",
    "        psd_m = np.zeros([2, len(f)])\n",
    "        psd_f = np.zeros([2, len(f)])\n",
    "        psd_z = np.zeros([2, len(f)])\n",
    "\n",
    "        for i in subset:\n",
    "            \n",
    "            chn    = str(i//10)+str(i%10)\n",
    "            Y_f = np.load(fdn + 'FFT_'+str(fs_out)+'/ch.'+chn+'.P_ft.npy').T         \n",
    "            \n",
    "            \n",
    "            psd = np.mean(Y_f[:,idx_clean],axis=1);\n",
    "            ax_idx = gs[kk,0];ax = fig.add_subplot(ax_idx);\n",
    "            ax.plot(f, psd, txt_line[ii], lw = 0.8);\n",
    "            psd_m[ii,:] = psd\n",
    "            \n",
    "            y_fit = 10**(x_fit*slope[ii,jj] + intercept[ii,jj]);\n",
    "            Y_f_fit = (Y_f.T/y_fit).T\n",
    "            psd = np.mean(Y_f_fit[:,idx_clean],axis=1);\n",
    "            ax_idx = gs[kk,1];ax = fig.add_subplot(ax_idx);\n",
    "            ax.plot(f, psd, txt_line[ii], lw = 0.8);\n",
    "            psd_f[ii,:] = psd\n",
    "\n",
    "            Y_f_z = ((Y_f.T-psd_mean)/psd_std).T\n",
    "            psd = np.mean(Y_f_z[:,idx_clean],axis=1);\n",
    "            ax_idx = gs[kk,2];ax = fig.add_subplot(ax_idx);\n",
    "            ax.plot(f, psd, txt_line[ii], lw = 0.8);\n",
    "            psd_z[ii,:] = psd\n",
    "\n",
    "            ii = ii+1\n",
    "\n",
    "        jj = jj+1\n",
    "\n",
    "    ax_idx = gs[kk,0];ax = fig.add_subplot(ax_idx);#ax.set_xlabel('Hz');  ax.legend();\n",
    "    ax.set_ylabel(rfdn[9:len(rfdn)-1], fontsize=20);\n",
    "    ax.set_title('Power Spectrum', fontsize=10);\n",
    "    ax.set_xlim([fl, fh]); ax.set_ylim([0,100])\n",
    "    ax_idx = gs[kk,1];ax = fig.add_subplot(ax_idx); \n",
    "    ax.set_title('Power Spectrum, Normalized to 1/f noise', fontsize=10);\n",
    "    ax.set_xlim([fl, fh]); ax.set_ylim([0.5, 2.8])\n",
    "    ax_idx = gs[kk,2];ax = fig.add_subplot(ax_idx);#ax.set_xlabel('Hz');\n",
    "    ax.set_title('Power Spectrum, Normalized (x-m)/sigma)', fontsize=10);\n",
    "    ax.set_xlim([fl, fh]); ax.set_ylim([-0.5,1.5])\n",
    "    kk = kk + 1\n",
    "plt.savefig('pic2/BBB_fit.png')\n",
    "plt.clf()"
   ]
  }
 ],
 "metadata": {
  "kernelspec": {
   "display_name": "Python 3",
   "language": "python",
   "name": "python3"
  },
  "language_info": {
   "codemirror_mode": {
    "name": "ipython",
    "version": 3
   },
   "file_extension": ".py",
   "mimetype": "text/x-python",
   "name": "python",
   "nbconvert_exporter": "python",
   "pygments_lexer": "ipython3",
   "version": "3.8.5"
  }
 },
 "nbformat": 4,
 "nbformat_minor": 2
}
