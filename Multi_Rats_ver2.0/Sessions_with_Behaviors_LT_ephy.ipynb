{
 "cells": [
  {
   "cell_type": "code",
   "execution_count": 1,
   "metadata": {},
   "outputs": [
    {
     "name": "stdout",
     "output_type": "stream",
     "text": [
      "D:\\Dropbox\\Lab\\MotorCortex\\Multi_Rats_ver2.0\n",
      "D:\\Dropbox\\Lab\\MotorCortex\n"
     ]
    }
   ],
   "source": [
    "import warnings; warnings.filterwarnings(\"ignore\")\n",
    "import os;\n",
    "from sys import platform\n",
    "print(os.getcwd())\n",
    "if platform == \"darwin\":\n",
    "    os.chdir('/Users/ziyingc/Dropbox/Lab/MotorCortex')\n",
    "elif platform == \"win32\":\n",
    "    os.chdir('D:\\Dropbox\\Lab\\MotorCortex')\n",
    "print(os.getcwd())\n",
    "import numpy as np\n"
   ]
  },
  {
   "cell_type": "code",
   "execution_count": 5,
   "metadata": {},
   "outputs": [
    {
     "name": "stdout",
     "output_type": "stream",
     "text": [
      "3\n"
     ]
    }
   ],
   "source": [
    "erfdn = [\n",
    "    'Rats/Rat_Astro/',\n",
    "    'Rats/Rat_Lenny/',\n",
    "    'Rats/Rat_Quartus/',\n",
    "#     'Rats/Rat_Drifter/',\n",
    "#     'Rats/Rat_Unknown/',\n",
    "\n",
    "    \n",
    "];np.save('Rats/Rats_LT_ephy.npy', erfdn); print(len(erfdn))\n"
   ]
  },
  {
   "cell_type": "markdown",
   "metadata": {},
   "source": [
    "# Astro"
   ]
  },
  {
   "cell_type": "code",
   "execution_count": 6,
   "metadata": {},
   "outputs": [
    {
     "name": "stdout",
     "output_type": "stream",
     "text": [
      "17 0 17\n"
     ]
    }
   ],
   "source": [
    "rfdn = 'Rats/Rat_Astro/';\n",
    "if not os.path.exists(rfdn+'tracking'):\n",
    "    os.makedirs(rfdn+'tracking')\n",
    "epn = [\n",
    "    'myAnimal20181129_124437_track',     'myAnimal20181129_125409_track',\n",
    "    'myAnimal20181130_144323_track',     'myAnimal20181130_145434_track',\n",
    "    'myAnimal20181204_105007_track',     'myAnimal20181204_110300_Track',\n",
    "    'myAnimal20181205_175616_track',     \n",
    "    'myAnimal20181206_110721_track',     'myAnimal20181206_113343_track',     \n",
    "    'myAnimal20181207_104712_track',     'myAnimal20181207_115828_track',\n",
    "    'myAnimal20181210_111518_track',     'myAnimal20181210_112722_track',\n",
    "    'myAnimal20181212_104125_track',\n",
    "    'myAnimal20181213_112048_track',     'myAnimal20181214_113053_track',\n",
    "    'myAnimal20181217_111225_track',\n",
    "];np.save(rfdn+'tracking'+'/epn_LT.npy', epn);print(len(epn),end= ' ')\n",
    "epn = [\n",
    "\n",
    "];np.save(rfdn+'tracking'+'/epn_LT_pre.npy', epn);print(len(epn),end= ' ')\n",
    "# epn = np.load(rfdn+'tracking'+'/epn_LT.npy')\n",
    "epn = [\n",
    "    'myAnimal20181129_124437_track',     'myAnimal20181129_125409_track',\n",
    "    'myAnimal20181130_144323_track',     'myAnimal20181130_145434_track',\n",
    "    'myAnimal20181204_105007_track',     'myAnimal20181204_110300_Track',\n",
    "    'myAnimal20181205_175616_track',     \n",
    "    'myAnimal20181206_110721_track',     'myAnimal20181206_113343_track',     \n",
    "    'myAnimal20181207_104712_track',     'myAnimal20181207_115828_track',\n",
    "    'myAnimal20181210_111518_track',     'myAnimal20181210_112722_track',\n",
    "    'myAnimal20181212_104125_track',\n",
    "    'myAnimal20181213_112048_track',     'myAnimal20181214_113053_track',\n",
    "    'myAnimal20181217_111225_track',\n",
    "];np.save(rfdn+'tracking'+'/epn_LT_post.npy', epn);print(len(epn))"
   ]
  },
  {
   "cell_type": "markdown",
   "metadata": {},
   "source": [
    "# Drifter"
   ]
  },
  {
   "cell_type": "code",
   "execution_count": 4,
   "metadata": {},
   "outputs": [
    {
     "name": "stdout",
     "output_type": "stream",
     "text": [
      "5 0 5\n"
     ]
    }
   ],
   "source": [
    "rfdn = 'Rats/Rat_Drifter/';\n",
    "if not os.path.exists(rfdn+'tracking'):\n",
    "    os.makedirs(rfdn+'tracking')\n",
    "epn = [\n",
    "    ######## Drifter ###################\n",
    "    'myAnimal20190410_124637_LT','myAnimal20190410_125450_LT','myAnimal20190410_131507_LT',\n",
    "    'myAnimal20190411_153618_LT','myAnimal20190411_155015_LT',\n",
    "];np.save(rfdn+'tracking'+'/epn_LT.npy', epn);print(len(epn),end= ' ')\n",
    "epn = [\n",
    "\n",
    "];np.save(rfdn+'tracking'+'/epn_LT_pre.npy', epn);print(len(epn),end= ' ')\n",
    "epn = np.load(rfdn+'tracking'+'/epn_LT.npy')\n",
    "np.save(rfdn+'tracking'+'/epn_LT_post.npy', epn);print(len(epn))"
   ]
  },
  {
   "cell_type": "markdown",
   "metadata": {},
   "source": [
    "# Lenny"
   ]
  },
  {
   "cell_type": "code",
   "execution_count": 7,
   "metadata": {},
   "outputs": [
    {
     "name": "stdout",
     "output_type": "stream",
     "text": [
      "11 2 11\n"
     ]
    }
   ],
   "source": [
    "rfdn = 'Rats/Rat_Lenny/';\n",
    "if not os.path.exists(rfdn+'tracking'):\n",
    "    os.makedirs(rfdn+'tracking')\n",
    "epn = [\n",
    "    'myAnimal20181213_104718','myAnimal20181213_110355',\n",
    "    'myAnimal20181214_120240',\n",
    "    'myAnimal20181217_104725_track',\n",
    "    'myAnimal20181223_154314_track',\n",
    "    'myAnimal20190104_164305_track',\n",
    "    'myAnimal20190105_161144_track',\n",
    "    'myAnimal20190105_161825_track',\n",
    "    'myAnimal20190107_111247_track', 'myAnimal20190107_111825_track', 'myAnimal20190107_112432_track',\n",
    "];np.save(rfdn+'tracking'+'/epn_LT.npy', epn);print(len(epn),end= ' ')\n",
    "epn = [\n",
    "    'myAnimal20181213_104718','myAnimal20181213_110355',\n",
    "\n",
    "];np.save(rfdn+'tracking'+'/epn_LT_pre.npy', epn);print(len(epn),end= ' ')\n",
    "epn = [\n",
    "    'myAnimal20181213_104718','myAnimal20181213_110355',\n",
    "    'myAnimal20181214_120240',\n",
    "    'myAnimal20181217_104725_track',\n",
    "    'myAnimal20181223_154314_track',\n",
    "    'myAnimal20190104_164305_track',\n",
    "    'myAnimal20190105_161144_track',\n",
    "    'myAnimal20190105_161825_track',\n",
    "    'myAnimal20190107_111247_track', \n",
    "    'myAnimal20190107_111825_track', 'myAnimal20190107_112432_track',\n",
    "];np.save(rfdn+'tracking'+'/epn_LT_post.npy', epn);print(len(epn))"
   ]
  },
  {
   "cell_type": "markdown",
   "metadata": {},
   "source": [
    "# Quartus"
   ]
  },
  {
   "cell_type": "code",
   "execution_count": 4,
   "metadata": {},
   "outputs": [
    {
     "name": "stdout",
     "output_type": "stream",
     "text": [
      "24\n",
      "0\n",
      "15\n"
     ]
    }
   ],
   "source": [
    "rfdn = 'Rats/Rat_Quartus/';\n",
    "if not os.path.exists(rfdn+'tracking'):\n",
    "    os.makedirs(rfdn+'tracking')\n",
    "epn = [\n",
    "    'myAnimal20190131_110225', 'myAnimal20190131_111042',\n",
    "    'myAnimal20190201_105133', 'myAnimal20190201_105916',\n",
    "    'myAnimal20190202_181612', 'myAnimal20190202_182512_round_pins',\n",
    "    \n",
    "    'myAnimal20190203_171742_round_pins','myAnimal20190203_173709',\n",
    "    'myAnimal20190204_155016',\n",
    "    'myAnimal20190205_152016_round_pins','myAnimal20190205_152930_round_pins',\n",
    "    'myAnimal20190206_152335_round_pins',\n",
    "    'myAnimal20190207_102354', 'myAnimal20190207_103439',\n",
    "    'myAnimal20190208_110821', 'myAnimal20190208_111636',\n",
    "    'myAnimal20190209_150944', 'myAnimal20190209_151602',\n",
    "    'myAnimal20190211_134124', 'myAnimal20190211_134835',\n",
    "    'myAnimal20190214_123200', 'myAnimal20190214_123905',\n",
    "    'myAnimal20190215_104305', 'myAnimal20190215_105649',\n",
    "];np.save(rfdn+'tracking'+'/epn_LT.npy', epn);print(len(epn))\n",
    "epn = [\n",
    "\n",
    "];np.save(rfdn+'tracking'+'/epn_LT_pre.npy', epn);print(len(epn))\n",
    "epn = [\n",
    "#     'myAnimal20190131_110225', 'myAnimal20190131_111042',\n",
    "#     'myAnimal20190201_105133', 'myAnimal20190201_105916',\n",
    "#     'myAnimal20190202_181612', 'myAnimal20190202_182512_round_pins',  \n",
    "#     'myAnimal20190203_171742_round_pins','myAnimal20190203_173709',\n",
    "#     'myAnimal20190204_155016',\n",
    "    'myAnimal20190205_152016_round_pins','myAnimal20190205_152930_round_pins',\n",
    "    'myAnimal20190206_152335_round_pins',\n",
    "    'myAnimal20190207_102354', 'myAnimal20190207_103439',\n",
    "    'myAnimal20190208_110821', 'myAnimal20190208_111636',\n",
    "    'myAnimal20190209_150944', 'myAnimal20190209_151602',\n",
    "    'myAnimal20190211_134124', 'myAnimal20190211_134835',\n",
    "    'myAnimal20190214_123200', 'myAnimal20190214_123905',\n",
    "    'myAnimal20190215_104305', 'myAnimal20190215_105649',\n",
    "];np.save(rfdn+'tracking'+'/epn_LT_post.npy', epn);print(len(epn))"
   ]
  },
  {
   "cell_type": "markdown",
   "metadata": {},
   "source": [
    "# Unknown"
   ]
  },
  {
   "cell_type": "code",
   "execution_count": 7,
   "metadata": {},
   "outputs": [
    {
     "name": "stdout",
     "output_type": "stream",
     "text": [
      "9\n",
      "7\n",
      "2\n"
     ]
    }
   ],
   "source": [
    "rfdn = 'Rats/Rat_Unknown/';\n",
    "if not os.path.exists(rfdn+'tracking'):\n",
    "    os.makedirs(rfdn+'tracking')\n",
    "epn = [\n",
    "    'myAnimal20190217_173157', 'myAnimal20190217_173912','myAnimal20190217_174807',\n",
    "    'myAnimal20190218_145618', 'myAnimal20190218_150805',\n",
    "    'myAnimal20190219_131701', 'myAnimal20190219_132852',\n",
    "    'myAnimal20190225_130113',\n",
    "    'myAnimal20190226_133643',\n",
    "];np.save(rfdn+'tracking'+'/epn_LT.npy', epn);print(len(epn))\n",
    "epn = [\n",
    "    'myAnimal20190217_173157', 'myAnimal20190217_173912','myAnimal20190217_174807',\n",
    "    'myAnimal20190218_145618', 'myAnimal20190218_150805',\n",
    "    'myAnimal20190219_131701', 'myAnimal20190219_132852',\n",
    "];np.save(rfdn+'tracking'+'/epn_LT_pre.npy', epn);print(len(epn))\n",
    "epn = [\n",
    "#     'myAnimal20190217_173157', 'myAnimal20190217_173912','myAnimal20190217_174807',\n",
    "#     'myAnimal20190218_145618', 'myAnimal20190218_150805',\n",
    "#     'myAnimal20190219_131701', 'myAnimal20190219_132852',\n",
    "    'myAnimal20190225_130113',\n",
    "    'myAnimal20190226_133643',\n",
    "];np.save(rfdn+'tracking'+'/epn_LT_post.npy', epn);print(len(epn))"
   ]
  }
 ],
 "metadata": {
  "kernelspec": {
   "display_name": "Python 3",
   "language": "python",
   "name": "python3"
  },
  "language_info": {
   "codemirror_mode": {
    "name": "ipython",
    "version": 3
   },
   "file_extension": ".py",
   "mimetype": "text/x-python",
   "name": "python",
   "nbconvert_exporter": "python",
   "pygments_lexer": "ipython3",
   "version": "3.7.0"
  }
 },
 "nbformat": 4,
 "nbformat_minor": 2
}
