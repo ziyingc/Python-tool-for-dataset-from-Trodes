{
 "cells": [
  {
   "cell_type": "code",
   "execution_count": 40,
   "metadata": {},
   "outputs": [
    {
     "name": "stdout",
     "output_type": "stream",
     "text": [
      "/Users/ziyingc/Dropbox/Lab/MotorCortex\n",
      "/Users/ziyingc/Dropbox/Lab/MotorCortex\n"
     ]
    }
   ],
   "source": [
    "import warnings; warnings.filterwarnings(\"ignore\")\n",
    "import os;\n",
    "from sys import platform\n",
    "print(os.getcwd())\n",
    "if platform == \"darwin\":\n",
    "    os.chdir('/Users/ziyingc/Dropbox/Lab/MotorCortex')\n",
    "elif platform == \"win32\":\n",
    "    os.chdir('D:\\Dropbox\\Lab\\MotorCortex')\n",
    "print(os.getcwd())\n",
    "import numpy as np\n"
   ]
  },
  {
   "cell_type": "code",
   "execution_count": 52,
   "metadata": {},
   "outputs": [
    {
     "name": "stdout",
     "output_type": "stream",
     "text": [
      "3\n"
     ]
    }
   ],
   "source": [
    "erfdn = [\n",
    "    'Rats/Rat_Outlaw/',\n",
    "    'Rats/Rat_Swashbuckler/',\n",
    "    'Rats/Rat_Drifter/',\n",
    "#     'Rats/Rat_Unknown/',\n",
    "#     'Rats/Rat_Quartus/',\n",
    "    \n",
    "#     'Rats/Rat_Left/',\n",
    "#     'Rats/Rat_Backup_plan/',\n",
    "#     'Rats/Rat_Dragonfly/',\n",
    "    \n",
    "];np.save('Rats/Rats_Turn_ephy.npy', erfdn); print(len(erfdn))\n"
   ]
  },
  {
   "cell_type": "markdown",
   "metadata": {},
   "source": [
    "# Drifter"
   ]
  },
  {
   "cell_type": "code",
   "execution_count": 50,
   "metadata": {},
   "outputs": [
    {
     "name": "stdout",
     "output_type": "stream",
     "text": [
      "61\n",
      "18\n",
      "24\n"
     ]
    }
   ],
   "source": [
    "rfdn = 'Rats/Rat_Drifter/';\n",
    "if not os.path.exists(rfdn+'tracking'):\n",
    "    os.makedirs(rfdn+'tracking')\n",
    "epn = [\n",
    "    ######## Drifter ###################\n",
    "    'myAnimal20190316_162928','myAnimal20190316_164542','myAnimal20190316_170546',\n",
    "    'myAnimal20190317_145756','myAnimal20190317_151643','myAnimal20190317_153607',\n",
    "    'myAnimal20190318_171313',\n",
    "    'myAnimal20190319_154252','myAnimal20190319_155126',\n",
    "    'myAnimal20190320_132227','myAnimal20190320_133941','myAnimal20190320_140040',\n",
    "    'myAnimal20190321_164726',\n",
    "    'myAnimal20190322_122706','myAnimal20190322_124613','myAnimal20190322_125920',\n",
    "    'myAnimal20190323_175336','myAnimal20190323_180650',\n",
    "    'myAnimal20190324_164915','myAnimal20190324_170329',\n",
    "    'myAnimal20190326_114943','myAnimal20190326_123814',\n",
    "    'myAnimal20190327_145222',\n",
    "    'myAnimal20190329_123100','myAnimal20190329_124452',\n",
    "    'myAnimal20190330_152928','myAnimal20190330_154402',\n",
    "    'myAnimal20190401_151049','myAnimal20190401_152757',\n",
    "    'myAnimal20190403_145131','myAnimal20190403_150444',\n",
    "    'myAnimal20190404_145335','myAnimal20190404_151349','myAnimal20190404_155328',\n",
    "    'myAnimal20190405_112457','myAnimal20190405_114943','myAnimal20190405_120104','myAnimal20190405_143523',\n",
    "    'myAnimal20190406_173232','myAnimal20190406_174216',\n",
    "    'myAnimal20190407_151559','myAnimal20190407_152512','myAnimal20190407_153254',\n",
    "    'myAnimal20190408_145948','myAnimal20190408_151815',\n",
    "    'myAnimal20190415_173818',\n",
    "    'myAnimal20190418_112357',\n",
    "    'myAnimal20190424_135507','myAnimal20190424_140708','myAnimal20190424_141653','myAnimal20190424_164329',\n",
    "    'myAnimal20190425_111803','myAnimal20190425_113256','myAnimal20190425_114507','myAnimal20190425_114946',\n",
    "    'myAnimal20190426_113132','myAnimal20190426_113918','myAnimal20190426_115116',\n",
    "    'myAnimal20190430_104612',\n",
    "    'myAnimal20190618_134328','myAnimal20190618_134806',\n",
    "]\n",
    "np.save(rfdn+'tracking'+'/epn_turn_elec.npy', epn);print(len(epn))\n",
    "\n",
    "epn = [\n",
    "    'myAnimal20190316_162928','myAnimal20190316_164542','myAnimal20190316_170546',\n",
    "    'myAnimal20190317_145756','myAnimal20190317_151643','myAnimal20190317_153607',\n",
    "    'myAnimal20190318_171313',\n",
    "    'myAnimal20190319_154252','myAnimal20190319_155126',\n",
    "    'myAnimal20190320_132227','myAnimal20190320_133941','myAnimal20190320_140040',\n",
    "    'myAnimal20190321_164726',\n",
    "    'myAnimal20190322_122706','myAnimal20190322_124613','myAnimal20190322_125920',\n",
    "    'myAnimal20190323_175336','myAnimal20190323_180650',\n",
    "\n",
    "];np.save(rfdn+'tracking'+'/epn_turn_elec_pre.npy', epn);print(len(epn))\n",
    "epn = [\n",
    "#     'myAnimal20190316_162928','myAnimal20190316_164542','myAnimal20190316_170546',\n",
    "#     'myAnimal20190317_145756','myAnimal20190317_151643','myAnimal20190317_153607',\n",
    "#     'myAnimal20190318_171313',\n",
    "#     'myAnimal20190319_154252','myAnimal20190319_155126',\n",
    "#     'myAnimal20190320_132227','myAnimal20190320_133941','myAnimal20190320_140040',\n",
    "#     'myAnimal20190321_164726',\n",
    "#     'myAnimal20190322_122706','myAnimal20190322_124613','myAnimal20190322_125920',\n",
    "#     'myAnimal20190323_175336','myAnimal20190323_180650',\n",
    "#     'myAnimal20190324_164915','myAnimal20190324_170329',\n",
    "    \n",
    "#     'myAnimal20190326_114943','myAnimal20190326_123814',\n",
    "#     'myAnimal20190327_145222',\n",
    "    'myAnimal20190329_123100','myAnimal20190329_124452',\n",
    "    'myAnimal20190330_152928','myAnimal20190330_154402',\n",
    "    \n",
    "    'myAnimal20190401_151049','myAnimal20190401_152757',\n",
    "    'myAnimal20190403_145131','myAnimal20190403_150444',\n",
    "    'myAnimal20190404_145335','myAnimal20190404_151349','myAnimal20190404_155328',\n",
    "    'myAnimal20190405_112457','myAnimal20190405_114943','myAnimal20190405_120104','myAnimal20190405_143523',\n",
    "    'myAnimal20190406_173232','myAnimal20190406_174216',\n",
    "    'myAnimal20190407_151559','myAnimal20190407_152512','myAnimal20190407_153254',\n",
    "    'myAnimal20190408_145948','myAnimal20190408_151815',\n",
    "    'myAnimal20190415_173818',\n",
    "    'myAnimal20190418_112357',\n",
    "#     'myAnimal20190424_135507','myAnimal20190424_140708','myAnimal20190424_141653','myAnimal20190424_164329',\n",
    "#     'myAnimal20190425_111803','myAnimal20190425_113256','myAnimal20190425_114507','myAnimal20190425_114946',\n",
    "    \n",
    "#     'myAnimal20190426_113132','myAnimal20190426_113918','myAnimal20190426_115116',\n",
    "#     'myAnimal20190430_104612',\n",
    "#     'myAnimal20190618_134328','myAnimal20190618_134806',\n",
    "];np.save(rfdn+'tracking'+'/epn_turn_elec_post.npy', epn);print(len(epn))"
   ]
  },
  {
   "cell_type": "markdown",
   "metadata": {},
   "source": [
    "# Outlaw"
   ]
  },
  {
   "cell_type": "code",
   "execution_count": 48,
   "metadata": {},
   "outputs": [
    {
     "name": "stdout",
     "output_type": "stream",
     "text": [
      "62\n",
      "12\n",
      "48\n",
      "26\n"
     ]
    }
   ],
   "source": [
    "rfdn = 'Rats/Rat_Outlaw/';\n",
    "if not os.path.exists(rfdn+'tracking'):\n",
    "    os.makedirs(rfdn+'tracking')\n",
    "epn = [\n",
    "    ######## Outlaw  ##############\n",
    "#     'myAnimal20190506_101948',\n",
    "#     'myAnimal20190514_114431',\n",
    "#     'myAnimal20190515_104308','myAnimal20190515_105322',\n",
    "#     'myAnimal20190516_111302',\n",
    "#     'myAnimal20190516_112002','myAnimal20190516_113327',\n",
    "    \n",
    "    'myAnimal20190524_140215','myAnimal20190524_140834','myAnimal20190524_141912',\n",
    "    'myAnimal20190525_163204','myAnimal20190525_163751','myAnimal20190525_164628',\n",
    "    'myAnimal20190526_155455','myAnimal20190526_155956','myAnimal20190526_160605','myAnimal20190526_161233',\n",
    "    'myAnimal20190527_122048','myAnimal20190527_124832','myAnimal20190527_125226',\n",
    "    'myAnimal20190528_125224','myAnimal20190528_130312','myAnimal20190528_131113',\n",
    "    'myAnimal20190529_134642','myAnimal20190529_135946','myAnimal20190529_140941',\n",
    "    'myAnimal20190530_102143','myAnimal20190530_103155','myAnimal20190530_104202',\n",
    "    'myAnimal20190531_140205','myAnimal20190531_140711',        \n",
    "    'myAnimal20190601_131527','myAnimal20190601_132040',\n",
    "    'myAnimal20190603_103350','myAnimal20190603_104015','myAnimal20190603_105314',\n",
    "    'myAnimal20190604_121502','myAnimal20190604_122638','myAnimal20190604_123335','myAnimal20190604_124200',\n",
    "    'myAnimal20190605_121018','myAnimal20190605_121537','myAnimal20190605_122924',\n",
    "    'myAnimal20190605_153845','myAnimal20190605_155108',        \n",
    "    'myAnimal20190607_153725',\n",
    "    'myAnimal20190610_095549','myAnimal20190610_104038','myAnimal20190610_151753',\n",
    "    'myAnimal20190610_113733','myAnimal20190610_114054',\n",
    "    'myAnimal20190611_112619','myAnimal20190611_114036',        \n",
    "    'myAnimal20190612_111857',\n",
    "    'myAnimal20190613_130247','myAnimal20190613_130717','myAnimal20190613_131241',\n",
    "    'myAnimal20190617_114633',\n",
    "    'myAnimal20190618_112308','myAnimal20190618_115349','myAnimal20190618_114046',\n",
    "    'myAnimal20190618_120243','myAnimal20190618_120911','myAnimal20190618_121335',\n",
    "    'myAnimal20190618_121844',         'myAnimal20190619_131624',\n",
    "    'myAnimal20190620_111850','myAnimal20190620_122609','myAnimal20190627_163046',\n",
    "]\n",
    "np.save(rfdn+'tracking'+'/epn_turn_elec.npy', epn);print(len(epn))\n",
    "\n",
    "############pre and post################\n",
    "epn = [\n",
    "    'myAnimal20190527_122048','myAnimal20190527_124832','myAnimal20190527_125226',\n",
    "    'myAnimal20190528_125224','myAnimal20190528_130312','myAnimal20190528_131113',\n",
    "    'myAnimal20190529_134642','myAnimal20190529_135946','myAnimal20190529_140941',\n",
    "    'myAnimal20190530_102143','myAnimal20190530_103155','myAnimal20190530_104202',\n",
    "];np.save(rfdn+'tracking'+'/epn_turn_elec_pre.npy', epn);    print(len(epn))\n",
    "epn = [\n",
    "#     'myAnimal20190524_140215','myAnimal20190524_140834','myAnimal20190524_141912',\n",
    "#     'myAnimal20190525_163204','myAnimal20190525_163751','myAnimal20190525_164628',\n",
    "#     'myAnimal20190526_155455','myAnimal20190526_155956','myAnimal20190526_160605','myAnimal20190526_161233',\n",
    "#     'myAnimal20190527_122048', 'myAnimal20190527_124832', 'myAnimal20190527_125226',\n",
    "    \n",
    "#     'myAnimal20190528_125224',\n",
    "    'myAnimal20190528_130312','myAnimal20190528_131113',\n",
    "    'myAnimal20190529_134642','myAnimal20190529_135946',\n",
    "    'myAnimal20190529_140941',\n",
    "    'myAnimal20190530_102143',\n",
    "    'myAnimal20190530_103155',\n",
    "    'myAnimal20190530_104202',\n",
    "\n",
    "    'myAnimal20190531_140205',\n",
    "    'myAnimal20190531_140711',        \n",
    "    'myAnimal20190601_131527','myAnimal20190601_132040',\n",
    "    'myAnimal20190603_103350','myAnimal20190603_104015','myAnimal20190603_105314',\n",
    "    'myAnimal20190604_121502','myAnimal20190604_122638',\n",
    "    'myAnimal20190604_123335',\n",
    "    'myAnimal20190604_124200',\n",
    "    'myAnimal20190605_121018','myAnimal20190605_121537','myAnimal20190605_122924',\n",
    "    'myAnimal20190605_153845','myAnimal20190605_155108',        \n",
    "    'myAnimal20190607_153725',\n",
    "    'myAnimal20190610_095549','myAnimal20190610_104038','myAnimal20190610_151753',\n",
    "    'myAnimal20190610_113733','myAnimal20190610_114054',\n",
    "    'myAnimal20190611_112619','myAnimal20190611_114036',        \n",
    "    'myAnimal20190612_111857',\n",
    "    'myAnimal20190613_130247','myAnimal20190613_130717','myAnimal20190613_131241',\n",
    "    'myAnimal20190617_114633',\n",
    "    'myAnimal20190618_112308','myAnimal20190618_115349','myAnimal20190618_114046',\n",
    "    'myAnimal20190618_120243','myAnimal20190618_120911','myAnimal20190618_121335',\n",
    "    'myAnimal20190618_121844',\n",
    "    'myAnimal20190619_131624',\n",
    "    'myAnimal20190620_111850','myAnimal20190620_122609',\n",
    "    'myAnimal20190627_163046',\n",
    "];np.save(rfdn+'tracking'+'/epn_turn_elec_post.npy', epn);   print(len(epn))\n",
    "\n",
    "\n",
    "epn = [\n",
    "    'myAnimal20190524_140215','myAnimal20190524_140834','myAnimal20190524_141912',\n",
    "    'myAnimal20190525_163204','myAnimal20190525_163751','myAnimal20190525_164628',\n",
    "    'myAnimal20190526_155455','myAnimal20190526_155956','myAnimal20190526_160605','myAnimal20190526_161233',\n",
    "    'myAnimal20190527_122048','myAnimal20190527_124832','myAnimal20190527_125226',\n",
    "    'myAnimal20190528_125224','myAnimal20190528_130312','myAnimal20190528_131113',\n",
    "    'myAnimal20190529_134642','myAnimal20190529_135946','myAnimal20190529_140941',\n",
    "    'myAnimal20190530_102143','myAnimal20190530_103155','myAnimal20190530_104202',\n",
    "    'myAnimal20190531_140205','myAnimal20190531_140711',        \n",
    "    'myAnimal20190601_131527','myAnimal20190601_132040',\n",
    "#     'myAnimal20190603_103350','myAnimal20190603_104015','myAnimal20190603_105314',\n",
    "#     'myAnimal20190604_121502','myAnimal20190604_122638',\n",
    "#     'myAnimal20190604_123335','myAnimal20190604_124200',\n",
    "#     'myAnimal20190605_121018','myAnimal20190605_121537','myAnimal20190605_122924',\n",
    "#     'myAnimal20190605_153845','myAnimal20190605_155108',        \n",
    "#     'myAnimal20190607_153725',\n",
    "#     'myAnimal20190610_095549','myAnimal20190610_104038','myAnimal20190610_151753',\n",
    "#     'myAnimal20190610_113733','myAnimal20190610_114054',\n",
    "#     'myAnimal20190611_112619','myAnimal20190611_114036',        \n",
    "#     'myAnimal20190612_111857',\n",
    "#     'myAnimal20190613_130247','myAnimal20190613_130717','myAnimal20190613_131241',\n",
    "#     'myAnimal20190617_114633',\n",
    "#     'myAnimal20190618_112308','myAnimal20190618_115349','myAnimal20190618_114046',\n",
    "#     'myAnimal20190618_120243','myAnimal20190618_120911','myAnimal20190618_121335',\n",
    "#     'myAnimal20190618_121844',\n",
    "#     'myAnimal20190619_131624',\n",
    "#     'myAnimal20190620_111850','myAnimal20190620_122609',\n",
    "#     'myAnimal20190627_163046',\n",
    "];np.save(rfdn+'tracking'+'/epn_turn_elec_post2.npy', epn);   print(len(epn))"
   ]
  },
  {
   "cell_type": "markdown",
   "metadata": {},
   "source": [
    "# Swashbuckler"
   ]
  },
  {
   "cell_type": "code",
   "execution_count": 51,
   "metadata": {},
   "outputs": [
    {
     "name": "stdout",
     "output_type": "stream",
     "text": [
      "23\n",
      "8\n",
      "13\n"
     ]
    }
   ],
   "source": [
    "rfdn = 'Rats/Rat_Swashbuckler/';\n",
    "if not os.path.exists(rfdn+'tracking'):\n",
    "    os.makedirs(rfdn+'tracking')\n",
    "epn = [\n",
    "    'myAnimal20190514_120741','myAnimal20190514_122256','myAnimal20190514_123201',\n",
    "    'myAnimal20190515_095840','myAnimal20190515_100757',\n",
    "    'myAnimal20190516_115335','myAnimal20190516_120031','myAnimal20190516_120728',\n",
    "    'myAnimal20190521_110156','myAnimal20190521_110939','myAnimal20190521_120327',\n",
    "    'myAnimal20190522_153015',\n",
    "    'myAnimal20190523_095829','myAnimal20190523_100541',\n",
    "    'myAnimal20190524_133109','myAnimal20190524_133703','myAnimal20190524_134337','myAnimal20190524_135243',\n",
    "    'myAnimal20190525_165456',\n",
    "    'myAnimal20190526_151523','myAnimal20190526_152110','myAnimal20190526_152657',\n",
    "    'myAnimal20190527_130449',\n",
    "];     np.save(rfdn+'tracking'+'/epn_turn_elec.npy', epn);print(len(epn))\n",
    "############pre and post################\n",
    "epn = [\n",
    "    'myAnimal20190514_120741','myAnimal20190514_122256','myAnimal20190514_123201',\n",
    "    'myAnimal20190515_095840','myAnimal20190515_100757',\n",
    "    'myAnimal20190516_115335','myAnimal20190516_120031','myAnimal20190516_120728',\n",
    "];     np.save(rfdn+'tracking'+'/epn_turn_elec_pre.npy', epn);print(len(epn))\n",
    "epn = [\n",
    "#     'myAnimal20190514_120741','myAnimal20190514_122256','myAnimal20190514_123201',\n",
    "#     'myAnimal20190515_095840','myAnimal20190515_100757',\n",
    "#     'myAnimal20190516_115335','myAnimal20190516_120031','myAnimal20190516_120728',\n",
    "    'myAnimal20190521_110156',\n",
    "    'myAnimal20190521_110939',\n",
    "    'myAnimal20190521_120327',\n",
    "    'myAnimal20190522_153015',\n",
    "    'myAnimal20190523_095829',\n",
    "    'myAnimal20190523_100541',\n",
    "#     'myAnimal20190524_133109',\n",
    "#     'myAnimal20190524_133703',\n",
    "    'myAnimal20190524_134337',\n",
    "    'myAnimal20190524_135243',\n",
    "    'myAnimal20190525_165456',\n",
    "    'myAnimal20190526_151523','myAnimal20190526_152110','myAnimal20190526_152657',\n",
    "    'myAnimal20190527_130449',\n",
    "];     np.save(rfdn+'tracking'+'/epn_turn_elec_post.npy', epn);print(len(epn))"
   ]
  },
  {
   "cell_type": "markdown",
   "metadata": {},
   "source": [
    "# Unknown"
   ]
  },
  {
   "cell_type": "code",
   "execution_count": 44,
   "metadata": {},
   "outputs": [
    {
     "name": "stdout",
     "output_type": "stream",
     "text": [
      "7\n",
      "0\n",
      "7\n"
     ]
    }
   ],
   "source": [
    "rfdn = 'Rats/Rat_Unknown/';\n",
    "if not os.path.exists(rfdn+'tracking'):\n",
    "    os.makedirs(rfdn+'tracking')\n",
    "epn = [\n",
    "    'myAnimal20190227_115428',\n",
    "    'myAnimal20190301_104327', 'myAnimal20190301_105102',\n",
    "    'myAnimal20190302_160128', 'myAnimal20190302_161316',\n",
    "    'myAnimal20190303_163119',\n",
    "    'myAnimal20190312_114034',\n",
    "]\n",
    "np.save(rfdn+'tracking'+'/epn_turn_elec.npy', epn);print(len(epn))\n",
    "\n",
    "epn = [\n",
    "\n",
    "];np.save(rfdn+'tracking'+'/epn_turn_elec_pre.npy', epn);print(len(epn))\n",
    "epn = [\n",
    "    'myAnimal20190227_115428',\n",
    "    'myAnimal20190301_104327', 'myAnimal20190301_105102',\n",
    "    'myAnimal20190302_160128', 'myAnimal20190302_161316',\n",
    "    'myAnimal20190303_163119',\n",
    "    'myAnimal20190312_114034',\n",
    "];np.save(rfdn+'tracking'+'/epn_turn_elec_post.npy', epn);print(len(epn))"
   ]
  },
  {
   "cell_type": "markdown",
   "metadata": {},
   "source": [
    "# Quartus"
   ]
  },
  {
   "cell_type": "code",
   "execution_count": 42,
   "metadata": {},
   "outputs": [
    {
     "name": "stdout",
     "output_type": "stream",
     "text": [
      "5\n",
      "0\n",
      "5\n"
     ]
    }
   ],
   "source": [
    "rfdn = 'Rats/Rat_Quartus/';\n",
    "if not os.path.exists(rfdn+'tracking'):\n",
    "    os.makedirs(rfdn+'tracking')\n",
    "epn = [\n",
    "    'myAnimal20190301_113909', 'myAnimal20190301_114857',\n",
    "    'myAnimal20190306_113211', 'myAnimal20190306_113915',\n",
    "    'myAnimal20190415_181031',\n",
    "]\n",
    "np.save(rfdn+'tracking'+'/epn_turn_elec.npy', epn);print(len(epn))\n",
    "epn = [\n",
    "\n",
    "];np.save(rfdn+'tracking'+'/epn_turn_elec_pre.npy', epn);print(len(epn))\n",
    "epn = [\n",
    "    'myAnimal20190301_113909', 'myAnimal20190301_114857',\n",
    "    'myAnimal20190306_113211', 'myAnimal20190306_113915',\n",
    "    'myAnimal20190415_181031',\n",
    "];np.save(rfdn+'tracking'+'/epn_turn_elec_post.npy', epn);print(len(epn))"
   ]
  }
 ],
 "metadata": {
  "kernelspec": {
   "display_name": "Python 3",
   "language": "python",
   "name": "python3"
  },
  "language_info": {
   "codemirror_mode": {
    "name": "ipython",
    "version": 3
   },
   "file_extension": ".py",
   "mimetype": "text/x-python",
   "name": "python",
   "nbconvert_exporter": "python",
   "pygments_lexer": "ipython3",
   "version": "3.5.6"
  }
 },
 "nbformat": 4,
 "nbformat_minor": 2
}
