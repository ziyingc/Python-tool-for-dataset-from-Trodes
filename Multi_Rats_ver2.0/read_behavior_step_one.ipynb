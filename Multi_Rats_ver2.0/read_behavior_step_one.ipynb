{
 "cells": [
  {
   "cell_type": "code",
   "execution_count": 3,
   "metadata": {},
   "outputs": [],
   "source": [
    "import warnings; warnings.filterwarnings(\"ignore\")\n",
    "import os; from sys import platform\n",
    "if platform == \"darwin\":    os.chdir('/Users/ziyingc/Dropbox/Lab/MotorCortex')\n",
    "elif platform == \"win32\":   os.chdir('D:\\Dropbox\\Lab\\MotorCortex')\n",
    "import matplotlib.pyplot as plt\n",
    "from matplotlib.gridspec import GridSpec\n",
    "import matplotlib.cm as cm; import matplotlib.mlab as mlab\n",
    "import numpy as np;\n",
    "import time2frequency as t2f\n",
    "import behavior_track as bt\n",
    "import turning_track  as tt\n",
    "import behavior_plot as bp\n",
    "import behavior_analysis as ba\n",
    "import philters\n",
    "fs = 30000;  fps = 30; fs_out = 1000;  T = 1/fs_out;\n"
   ]
  },
  {
   "cell_type": "code",
   "execution_count": 11,
   "metadata": {
    "scrolled": false
   },
   "outputs": [
    {
     "name": "stdout",
     "output_type": "stream",
     "text": [
      "['Rats/Rat_Outlaw/' 'Rats/Rat_Swashbuckler/']\n",
      "39\n",
      "67\n"
     ]
    },
    {
     "data": {
      "text/plain": [
       "<Figure size 2160x4752 with 0 Axes>"
      ]
     },
     "metadata": {},
     "output_type": "display_data"
    }
   ],
   "source": [
    "erfdn = np.load('Rats/Rats_Turn_ephy.npy')\n",
    "print(erfdn)\n",
    "for rfdn in erfdn:\n",
    "    epn = np.load(rfdn+'tracking'+'/epn_turn_elec_post.npy');\n",
    "    subset = np.load(rfdn+'tracking'+'/subset_ephy_li.npy');\n",
    "    fig = plt.figure(1, figsize=(30, len(epn)*2));  \n",
    "    gs  = GridSpec(int(len(epn)/2)+1 , 2);\n",
    "    kk = 0\n",
    "    total_pk=0\n",
    "    for k in epn:\n",
    "        fdn  = rfdn + k + '/'\n",
    "        ts  = np.load(fdn+'tracking'+'/ts_f.npy');  \n",
    "        spd = np.load(fdn+'tracking/' + 'spd_f.npy');\n",
    "        idx_clean_f   = np.load(fdn+'tracking/'+'idx_clean_f.npy');\n",
    "        idx_clean_fft = np.load(fdn+'tracking/'+'idx_clean_fft.npy')\n",
    "        idx_clean   = np.logical_and(idx_clean_f, idx_clean_fft)\n",
    "        \n",
    "        ax_idx = gs[kk];  ax = fig.add_subplot(ax_idx);\n",
    "        ax.plot(ts, spd);ax.set_ylim([0,30])\n",
    "        thr1 = 10;\n",
    "        index, T = philters.read_burst(spd, thr1/2, thr1, idx_clean, 1)\n",
    "        total_pk = total_pk+len(index)\n",
    "#         print(k[10:21], len(index))\n",
    "        ax.set_title(str(len(index)))\n",
    "        kk += 1\n",
    "    print(total_pk)\n",
    "    plt.savefig('pic2/speed_'+rfdn[9:len(rfdn)-1]+'.png')\n",
    "    plt.clf()"
   ]
  },
  {
   "cell_type": "code",
   "execution_count": null,
   "metadata": {},
   "outputs": [
    {
     "name": "stdout",
     "output_type": "stream",
     "text": [
      "['Rats/Rat_Swashbuckler/']\n",
      "Rats/Rat_Swashbuckler/ 23\n"
     ]
    }
   ],
   "source": [
    "erfdn = np.load('Rats/Rats_ephy.npy')[[0]]\n",
    "print(erfdn)\n",
    "for rfdn in erfdn:\n",
    "    epn = np.load(rfdn+'tracking'+'/epn_ephy.npy');\n",
    "    print(rfdn, len(epn))\n",
    "#     ba.movement_segment(rfdn, epn, fps, fs_out)\n",
    "    j = 0;\n",
    "    total_acc = 0;\n",
    "    total_dec = 0;\n",
    "    dispm_ac_Toi2 = np.empty([0,])\n",
    "    dispm_de_Toi2 = np.empty([0,])\n",
    "    for k in epn:\n",
    "        \n",
    "        fdn   = rfdn + k + '/'\n",
    "        ts_f  = np.load(fdn+'tracking/'+'ts_f.npy');     spd_f = np.load(fdn+'tracking/'+'spd_f.npy');\n",
    "\n",
    "        pos_Y = np.load(fdn+'tracking/'+'pos_Y_f.npy');  pos_X = np.load(fdn+'tracking/'+'pos_X_f.npy')\n",
    "\n",
    "        XY = np.array((pos_X, pos_Y)).T\n",
    "        TN_max =fps*5;      TN_min =fps*2\n",
    "        l_t = len(ts_f); T_t = l_t/fps/60\n",
    "        \n",
    "        d_s = np.square(np.diff(XY, axis = 0))\n",
    "        d_XY = np.square(np.sum(d_s,axis=1)); dis_traveled = np.sum(d_XY)\n",
    "        \n",
    "        dis = np.empty((0,))\n",
    "        idx_T = np.empty((0,2))\n",
    "        i = 0\n",
    "        while i < l_t-TN_max:\n",
    "            p_i = XY[i,:];\n",
    "            for j in np.arange(i+TN_min,i+TN_max):\n",
    "                p_j = XY[j,:];\n",
    "#                 l_xy_ij = np.sum(d_XY[i:j])\n",
    "#                 d_ij = p_i-p_j;\n",
    "#                 dis = np.sqrt(sum(d_ij*d_ij))\n",
    "\n",
    "                dis_ij = np.matmul(p_i-p_j, p_i-p_j);\n",
    "                \n",
    "            i += 1\n",
    "#         print(k[10:21], np.round([dis_traveled],2))\n",
    "#     print(' ')"
   ]
  },
  {
   "cell_type": "code",
   "execution_count": 2,
   "metadata": {},
   "outputs": [],
   "source": [
    "# import shutil\n",
    "# # erfdn = np.load('Rats/Rats.npy')\n",
    "# for rfdn in erfdn:\n",
    "#     epn = np.load(rfdn+'tracking'+'/epn_ephy.npy');\n",
    "#     for k in epn:\n",
    "#         fdn = rfdn + k + '/'\n",
    "#         try:\n",
    "#             os.remove(fdn+'tracking/'+'idx_idol.npy')\n",
    "#             os.remove(fdn+'tracking/'+'idx_idol_f.npy')\n",
    "#         except OSError as e:\n",
    "#             print (\"Error: %s - %s.\" % (e.filename, e.strerror))"
   ]
  },
  {
   "cell_type": "code",
   "execution_count": 3,
   "metadata": {},
   "outputs": [
    {
     "name": "stdout",
     "output_type": "stream",
     "text": [
      "[1 1 1 1 1 1 1 1 1 1 1 1 1 1 1 1 1 1 1 1 1]\n",
      "Rats/Rat_Swashbuckler/ 21\n",
      "[1 1 1 1 1 1 1 1 1 1 1 1 1 1 1 1 1 1 1 1 1 1 1 1 1 1 1 1 1 1 1 1 1 1 1 1 1\n",
      " 1 1 1 1 1 1 1 1 1 1 1 1 1 1 1 1 1 1 1 1 1 1 1 1]\n",
      "Rats/Rat_Outlaw/ 61\n",
      "[1 1 1 1 1 1 1 1 1 1 1 1 1 1 1 1 1 1 1 1 1 1 1 1 1 1 1 1 1 1 1 1 1 1 1 1 1\n",
      " 1 1 1 1 1 1 1 0 0 0 0 0 1 1 1]\n",
      "Rats/Rat_Drifter/ 52\n",
      "[0 0 0 0 0 0 0 0 0 2 2 2 1 1 1]\n",
      "Rats/Rat_Unknown/ 15\n",
      "[0 0 0 0 0 0 0 0 0 0 0 0 0 0 0 0 0 0 0 0 0 0 0 0 2 2 1 1 1]\n",
      "Rats/Rat_Quartus/ 29\n",
      "[0 0 0 0 0 0 0 0 0 0 0]\n",
      "Rats/Rat_Lenny/ 11\n",
      "[0 0 0 0 0 0 0 0 0 0 0 0 0 0 0 0 0]\n",
      "Rats/Rat_Astro/ 17\n"
     ]
    },
    {
     "data": {
      "text/plain": [
       "<Figure size 1440x1440 with 0 Axes>"
      ]
     },
     "metadata": {},
     "output_type": "display_data"
    }
   ],
   "source": [
    "erfdn = np.load('Rats/Rats_ephy.npy')#[[4]]\n",
    "mode = 'FFT'\n",
    "for rfdn in erfdn:\n",
    "    epn    = np.load(rfdn+'tracking'+'/epn_ephy.npy');\n",
    "    epn_id    = np.load(rfdn+'tracking'+'/epn_ephy_id.npy').astype('int');\n",
    "    print(epn_id)\n",
    "    subset = np.load(rfdn+'tracking'+'/subset_ephy_li.npy');\n",
    "    print(rfdn, len(epn))\n",
    "    test = True\n",
    "    bp.plot_tracks(rfdn, epn, epn_id, fs_out)"
   ]
  },
  {
   "cell_type": "code",
   "execution_count": 8,
   "metadata": {},
   "outputs": [
    {
     "name": "stdout",
     "output_type": "stream",
     "text": [
      "w cm/pixel: 0.262 l cm/pixel: 0.255\n",
      "w pixel/cm: 3.819 l pixel/cm: 3.921\n"
     ]
    }
   ],
   "source": [
    "erfdn = np.load('Rats/Rats_ephy.npy')\n",
    "l = np.empty((0,))\n",
    "w = np.empty((0,))\n",
    "\n",
    "for rfdn in erfdn:\n",
    "    epn    = np.load(rfdn+'tracking'+'/epn_ephy.npy');\n",
    "    epn_id = np.load(rfdn+'tracking'+'/epn_ephy_id.npy');\n",
    "    lth, wd = bt.measurement(rfdn, epn, epn_id, 3);\n",
    "    idx_TN = epn_id>0\n",
    "    l_m =np.mean(lth[np.logical_and(idx_TN,lth>420)])\n",
    "    if l_m > 0:\n",
    "        l = np.append(l, l_m)\n",
    "    w_m =np.mean(wd[np.logical_and(idx_TN,wd>190)])\n",
    "    if w_m > 0:\n",
    "        w = np.append(w, w_m)\n",
    "    \n",
    "                  \n",
    "l = np.mean(l)\n",
    "w = np.mean(w)\n",
    "r_p2cm_w = 20/w*2.54\n",
    "r_p2cm_l = 43/l*2.54\n",
    "r_p2cm_lw = np.array([r_p2cm_l, r_p2cm_w])\n",
    "# np.save('Rats/r_p2cm_TN.npy', r_p2cm_lw)\n",
    "print('w cm/pixel:', round(r_p2cm_w,3),'l cm/pixel:', round(r_p2cm_l,3))\n",
    "print('w pixel/cm:', round(1/r_p2cm_w,3),'l pixel/cm:', round(1/r_p2cm_l,3))\n",
    "#     print(np.round(lth[lth>400],2))\n",
    "#     print(np.round(wd[wd>180],2))\n",
    "\n",
    "# linear 46 inches"
   ]
  },
  {
   "cell_type": "code",
   "execution_count": 2,
   "metadata": {},
   "outputs": [
    {
     "name": "stdout",
     "output_type": "stream",
     "text": [
      "Rats/Rat_Swashbuckler/ 23\n",
      "Rats/Rat_Outlaw/ 62\n",
      "Rats/Rat_Quartus/ 29\n",
      "Rats/Rat_Unknown/ 16\n",
      "Rats/Rat_Drifter/ 66\n",
      "Rats/Rat_Astro/ 17\n",
      "Rats/Rat_Lenny/ 11\n"
     ]
    }
   ],
   "source": [
    "erfdn = np.load('Rats/Rats_ephy.npy')\n",
    "# erfdn = np.load('Rats/Rats_LT_ephy.npy')\n",
    "# erfdn = np.load('Rats/Rats_Turn.npy')\n",
    "# erfdn = np.load('Rats/Rats_Turn_ephy.npy')\n",
    "for rfdn in erfdn:\n",
    "    epn    = np.load(rfdn+'tracking'+'/epn_ephy.npy');\n",
    "#     epn    = np.load(rfdn+'tracking'+'/epn_LT_post.npy');\n",
    "#     epn    = np.load(rfdn+'tracking'+'/epn_LT.npy');\n",
    "#     epn    = np.load(rfdn+'tracking'+'/epn_turn_elec_post.npy');\n",
    "    subset = np.load(rfdn+'tracking'+'/subset_ephy_li.npy');\n",
    "    print(rfdn, len(epn))\n",
    "    "
   ]
  },
  {
   "cell_type": "code",
   "execution_count": 3,
   "metadata": {},
   "outputs": [
    {
     "name": "stdout",
     "output_type": "stream",
     "text": [
      "Rats/Rat_Outlaw/ sessions 33\n",
      "Rats/Rat_Swashbuckler/ sessions 11\n",
      "Rats/Rat_Drifter/ sessions 32\n",
      "Rats/Rat_Unknown/ sessions 5\n"
     ]
    }
   ],
   "source": [
    "erfdn = np.load('Rats/Rats_Turn_ephy.npy')#[[2]]\n",
    "Tn_pre = 3;  T_seg = np.arange(5, 150)*1;    \n",
    "dmax = 15;    dmin  = 8;\n",
    "dmax2 = 8; dmin2 = 5; T_min = 15;\n",
    "test = False\n",
    "for rfdn in erfdn:\n",
    "    epn = np.load(rfdn+'tracking'+'/epn_turn_elec_post.npy');\n",
    "    print(rfdn, 'sessions', len(epn))\n",
    "#     tt.XY_displacement(rfdn, epn, dmax,  dmin,  T_seg, int(Tn_pre*fps), test = test)\n",
    "#     tt.XY_disp_filter (rfdn, epn, dmax2, dmin2, T_min, test = test)\n",
    "#     tt.XY_turn_filter (rfdn, epn,     int(Tn_pre*fps), test = test)"
   ]
  },
  {
   "cell_type": "code",
   "execution_count": 4,
   "metadata": {},
   "outputs": [
    {
     "name": "stdout",
     "output_type": "stream",
     "text": [
      "Rats/Rat_Outlaw/ sessions 33\n",
      "Rats/Rat_Swashbuckler/ sessions 11\n",
      "Rats/Rat_Drifter/ sessions 32\n",
      "Rats/Rat_Unknown/ sessions 5\n"
     ]
    },
    {
     "data": {
      "text/plain": [
       "<Figure size 1152x576 with 0 Axes>"
      ]
     },
     "metadata": {},
     "output_type": "display_data"
    }
   ],
   "source": [
    "erfdn = np.load('Rats/Rats_Turn_ephy.npy')\n",
    "for rfdn in erfdn:\n",
    "    epn = np.load(rfdn+'tracking'+'/epn_turn_elec_post.npy');\n",
    "    print(rfdn, 'sessions', len(epn))\n",
    "    bp.plot_turnspeed(rfdn, epn, int(Tn_pre*fps), test)"
   ]
  },
  {
   "cell_type": "markdown",
   "metadata": {},
   "source": [
    "# NEW \n"
   ]
  },
  {
   "cell_type": "code",
   "execution_count": 2,
   "metadata": {},
   "outputs": [
    {
     "name": "stdout",
     "output_type": "stream",
     "text": [
      "Rats/Rat_Outlaw/ sessions 69\n",
      "total right: 134 total left: 95\n",
      "Rats/Rat_Backup_plan/ sessions 5\n",
      "total right: 78 total left: 70\n",
      "Rats/Rat_Dragonfly/ sessions 5\n",
      "total right: 77 total left: 78\n",
      "Rats/Rat_Drifter/ sessions 61\n",
      "total right: 148 total left: 145\n",
      "Rats/Rat_Unknown/ sessions 7\n",
      "total right: 19 total left: 16\n",
      "Rats/Rat_Swashbuckler/ sessions 23\n",
      "total right: 59 total left: 54\n",
      "Rats/Rat_Quartus/ sessions 5\n",
      "total right: 68 total left: 88\n",
      "Rats/Rat_Left/ sessions 20\n",
      "total right: 133 total left: 114\n"
     ]
    }
   ],
   "source": [
    "erfdn = np.load('Rats/Rats_Turn.npy')\n",
    "\n",
    "erfdn = [\n",
    "    'Rats/Rat_Outlaw/',\n",
    "    'Rats/Rat_Backup_plan/',\n",
    "    'Rats/Rat_Dragonfly/',\n",
    "\n",
    "    'Rats/Rat_Drifter/',\n",
    "    'Rats/Rat_Unknown/',\n",
    "    'Rats/Rat_Swashbuckler/',\n",
    "    'Rats/Rat_Quartus/',\n",
    "    'Rats/Rat_Left/',\n",
    "]\n",
    "\n",
    "dmax2 = 20; dmin2 = 15; T_min = 5;\n",
    "Tn_pre = 1.5;\n",
    "test = True\n",
    "for rfdn in erfdn:\n",
    "    epn = np.load(rfdn+'tracking'+'/epn_turn.npy');\n",
    "    print(rfdn, 'sessions', len(epn))\n",
    "#     tt.XY_disp_filter (rfdn, epn, dmax2, dmin2, T_min, test = test)\n",
    "    tt.XY_turn_filter (rfdn, epn,     int(Tn_pre*fps), test = test)\n",
    "#     bp.plot_turns(rfdn, epn, int(Tn_pre*fps), test)"
   ]
  }
 ],
 "metadata": {
  "kernelspec": {
   "display_name": "Python 3",
   "language": "python",
   "name": "python3"
  },
  "language_info": {
   "codemirror_mode": {
    "name": "ipython",
    "version": 3
   },
   "file_extension": ".py",
   "mimetype": "text/x-python",
   "name": "python",
   "nbconvert_exporter": "python",
   "pygments_lexer": "ipython3",
   "version": "3.7.0"
  }
 },
 "nbformat": 4,
 "nbformat_minor": 2
}
