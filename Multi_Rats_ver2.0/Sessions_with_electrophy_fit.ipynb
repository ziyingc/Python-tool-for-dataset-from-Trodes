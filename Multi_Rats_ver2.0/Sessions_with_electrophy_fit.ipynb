{
 "cells": [
  {
   "cell_type": "code",
   "execution_count": 110,
   "metadata": {},
   "outputs": [
    {
     "name": "stdout",
     "output_type": "stream",
     "text": [
      "/Users/ziyingc/Dropbox/Lab/MotorCortex\n",
      "/Users/ziyingc/Dropbox/Lab/MotorCortex\n"
     ]
    }
   ],
   "source": [
    "import warnings; warnings.filterwarnings(\"ignore\")\n",
    "import os;\n",
    "from sys import platform\n",
    "print(os.getcwd())\n",
    "if platform == \"darwin\":  os.chdir('/Users/ziyingc/Dropbox/Lab/MotorCortex')\n",
    "elif platform == \"win32\": os.chdir('D:\\Dropbox\\Lab\\MotorCortex')\n",
    "print(os.getcwd())\n",
    "import numpy as np\n"
   ]
  },
  {
   "cell_type": "code",
   "execution_count": 142,
   "metadata": {},
   "outputs": [
    {
     "name": "stdout",
     "output_type": "stream",
     "text": [
      "6\n"
     ]
    }
   ],
   "source": [
    "erfdn = [\n",
    "########### Turning ###########\n",
    "    \n",
    "    'Rats/Rat_Swashbuckler/',\n",
    "    'Rats/Rat_Outlaw/',\n",
    "    'Rats/Rat_Drifter/',\n",
    "    'Rats/Rat_Quartus/',\n",
    "    \n",
    "########### Linear Track ###########\n",
    "    \n",
    "    'Rats/Rat_Lenny/',\n",
    "    'Rats/Rat_Astro/',\n",
    "\n",
    "];np.save('Rats/Rats_ephy.npy', erfdn); print(len(erfdn))\n",
    "\n",
    "np.save('Rats/Rats_ephy_pre.npy', erfdn[0:5]);\n",
    "np.save('Rats/Rats_ephy_pre_LT.npy', erfdn[3:6])\n",
    "np.save('Rats/Rats_ephy_pre_TN.npy', erfdn[0:3])\n",
    "\n",
    "np.save('Rats/Rats_ephy_post.npy', erfdn);\n",
    "np.save('Rats/Rats_ephy_post_LT.npy', erfdn[2:6]); \n",
    "np.save('Rats/Rats_ephy_post_TN.npy', erfdn[0:5]);"
   ]
  },
  {
   "cell_type": "code",
   "execution_count": null,
   "metadata": {},
   "outputs": [],
   "source": []
  },
  {
   "cell_type": "markdown",
   "metadata": {},
   "source": [
    "# Astro"
   ]
  },
  {
   "cell_type": "code",
   "execution_count": 120,
   "metadata": {},
   "outputs": [
    {
     "name": "stdout",
     "output_type": "stream",
     "text": [
      "17\n",
      "17\n",
      "17\n",
      "17\n"
     ]
    }
   ],
   "source": [
    "rfdn = 'Rats/Rat_Astro/'; \n",
    "if not os.path.exists(rfdn+'tracking'):\n",
    "    os.makedirs(rfdn+'tracking')\n",
    "subset = np.array([5,12]); np.save(rfdn+'tracking'+'/subset_ephy.npy', subset)\n",
    "epn = [\n",
    "    'myAnimal20181129_124437_track',     'myAnimal20181129_125409_track',\n",
    "    'myAnimal20181130_144323_track',     'myAnimal20181130_145434_track',\n",
    "    'myAnimal20181204_105007_track',     'myAnimal20181204_110300_Track',\n",
    "    'myAnimal20181205_175616_track',     \n",
    "    'myAnimal20181206_110721_track',     'myAnimal20181206_113343_track',     \n",
    "    'myAnimal20181207_104712_track',     'myAnimal20181207_115828_track',\n",
    "    'myAnimal20181210_111518_track',     'myAnimal20181210_112722_track',\n",
    "    'myAnimal20181212_104125_track',\n",
    "    'myAnimal20181213_112048_track',     \n",
    "    'myAnimal20181214_113053_track',\n",
    "    'myAnimal20181217_111225_track',\n",
    "]; \n",
    "np.save(rfdn+'tracking'+'/epn_ephy.npy', epn);print(len(epn))\n",
    "epn_id = np.zeros((len(epn),))\n",
    "np.save(rfdn+'tracking'+'/epn_ephy_id.npy', epn_id);print(len(epn))\n",
    "\n",
    "#####################lesion vs Intact set#################\n",
    "subset = np.array([5,12]); np.save(rfdn+'tracking'+'/subset_ephy_li.npy', subset);\n",
    "np.save(rfdn+'tracking'+'/epn_ephy_post.npy', epn);print(len(epn))\n",
    "np.save(rfdn+'tracking'+'/epn_ephy_post_LT.npy', epn);print(len(epn))\n"
   ]
  },
  {
   "cell_type": "markdown",
   "metadata": {},
   "source": [
    "# Outlaw"
   ]
  },
  {
   "cell_type": "code",
   "execution_count": 139,
   "metadata": {},
   "outputs": [
    {
     "name": "stdout",
     "output_type": "stream",
     "text": [
      "61\n",
      "61\n",
      "12\n",
      "12\n",
      "42 0190531_1402\n",
      "39 0190531_1402\n",
      "13 myAnimal20190527_125226\n",
      "22 myAnimal20190531_140205\n"
     ]
    }
   ],
   "source": [
    "rfdn = 'Rats/Rat_Outlaw/';\n",
    "if not os.path.exists(rfdn+'tracking'):\n",
    "    os.makedirs(rfdn+'tracking')\n",
    "subset = np.array([5,7,13,15]);   np.save(rfdn+'tracking'+'/subset_ephy.npy', subset);\n",
    "epn = [\n",
    "    ######## Outlaw  5/20 ##############\n",
    "    'myAnimal20190524_140215','myAnimal20190524_140834','myAnimal20190524_141912',\n",
    "    'myAnimal20190525_163204','myAnimal20190525_163751','myAnimal20190525_164628',\n",
    "    'myAnimal20190526_155455','myAnimal20190526_155956','myAnimal20190526_160605','myAnimal20190526_161233',\n",
    "    'myAnimal20190527_122048','myAnimal20190527_124832','myAnimal20190527_125226',\n",
    "    #### 1 weeks\n",
    "    'myAnimal20190528_125224','myAnimal20190528_130312','myAnimal20190528_131113',\n",
    "    'myAnimal20190529_134642','myAnimal20190529_135946','myAnimal20190529_140941',\n",
    "    'myAnimal20190530_102143','myAnimal20190530_103155','myAnimal20190530_104202',\n",
    "    \n",
    "    ### 10 days\n",
    "    'myAnimal20190531_140205','myAnimal20190531_140711',        \n",
    "    'myAnimal20190601_131527',\n",
    "    'myAnimal20190601_132040',\n",
    "    \n",
    "    'myAnimal20190603_103350','myAnimal20190603_104015','myAnimal20190603_105314',\n",
    "    'myAnimal20190604_121502','myAnimal20190604_122638','myAnimal20190604_123335','myAnimal20190604_124200',\n",
    "    'myAnimal20190605_121018','myAnimal20190605_121537','myAnimal20190605_122924',\n",
    "    'myAnimal20190605_153845','myAnimal20190605_155108',\n",
    "    'myAnimal20190607_153725',\n",
    "    'myAnimal20190610_095549','myAnimal20190610_104038','myAnimal20190610_151753',\n",
    "    'myAnimal20190610_113733','myAnimal20190610_114054',\n",
    "    'myAnimal20190611_112619','myAnimal20190611_114036',        \n",
    "    'myAnimal20190612_111857',\n",
    "    'myAnimal20190613_130247','myAnimal20190613_130717','myAnimal20190613_131241',\n",
    "    'myAnimal20190617_114633',\n",
    "    'myAnimal20190618_112308','myAnimal20190618_115349','myAnimal20190618_114046',\n",
    "    'myAnimal20190618_120243','myAnimal20190618_120911','myAnimal20190618_121335','myAnimal20190618_121844',         \n",
    "    'myAnimal20190619_131624',\n",
    "    \n",
    "    'myAnimal20190620_111850','myAnimal20190620_122609',\n",
    "#     'myAnimal20190627_163046',\n",
    "]; np.save(rfdn+'tracking'+'/epn_ephy.npy',    epn); print(len(epn))\n",
    "epn_id = np.zeros((len(epn),))+1\n",
    "np.save(rfdn+'tracking'+'/epn_ephy_id.npy', epn_id);print(len(epn))\n",
    "#####################lesion vs Intact set#################\n",
    "subset = np.array([5,13]); np.save(rfdn+'tracking'+'/subset_ephy_li.npy', subset);\n",
    "\n",
    "np.save(rfdn+'tracking'+'/epn_ephy_pre.npy', epn[0:9]);    print(len(epn[0:12]))\n",
    "np.save(rfdn+'tracking'+'/epn_ephy_pre_TN.npy', epn[0:9]); print(len(epn[0:12]))\n",
    "\n",
    "np.save(rfdn+'tracking'+'/epn_ephy_post.npy',    epn[19:61]);   print(len(epn[19:61]), epn[22][9:21])\n",
    "np.save(rfdn+'tracking'+'/epn_ephy_post_TN.npy', epn[19:61]);print(len(epn[22:62]), epn[22][9:21])\n",
    "print(13, epn[12])\n",
    "print(22, epn[22])"
   ]
  },
  {
   "cell_type": "markdown",
   "metadata": {},
   "source": [
    "# Drifter"
   ]
  },
  {
   "cell_type": "code",
   "execution_count": 140,
   "metadata": {},
   "outputs": [
    {
     "name": "stdout",
     "output_type": "stream",
     "text": [
      "52\n",
      "[1. 1. 1. 1. 1. 1. 1. 1. 1. 1. 1. 1. 1. 1. 1. 1. 1. 1. 1. 1. 1. 1. 1. 1.\n",
      " 1. 1. 1. 1. 1. 1. 1. 1. 1. 1. 1. 1. 1. 1. 1. 1. 1. 1. 1. 1. 1. 0. 0. 0.\n",
      " 0. 0. 1. 1.]\n",
      "52\n",
      "13\n",
      "13\n",
      "32\n",
      "5\n",
      "myAnimal20190418_112357\n"
     ]
    }
   ],
   "source": [
    "rfdn = 'Rats/Rat_Drifter/';\n",
    "if not os.path.exists(rfdn+'tracking'):\n",
    "    os.makedirs(rfdn+'tracking')\n",
    "subset = np.array([20,21,22,23,28,29,30,31]);\n",
    "# subset = np.array([4,5,6,7,12,13,14,15,20,28]);\n",
    "# subset = np.array([28,20]);\n",
    "np.save(rfdn+'tracking'+'/subset_ephy.npy', subset);\n",
    "epn = [\n",
    "    ######## Drifter 3/14###################\n",
    "    'myAnimal20190316_162928','myAnimal20190316_164542','myAnimal20190316_170546', \n",
    "    'myAnimal20190317_145756','myAnimal20190317_151643','myAnimal20190317_153607',\n",
    "    'myAnimal20190318_171313',\n",
    "    'myAnimal20190319_154252','myAnimal20190319_155126',\n",
    "    'myAnimal20190320_132227','myAnimal20190320_133941','myAnimal20190320_140040', #12\n",
    "    'myAnimal20190321_164726',\n",
    "    ###### 1 week\n",
    "    'myAnimal20190322_122706','myAnimal20190322_124613','myAnimal20190322_125920',\n",
    "    'myAnimal20190323_175336','myAnimal20190323_180650',\n",
    "    'myAnimal20190324_164915','myAnimal20190324_170329',\n",
    "    ####### 10 days\n",
    "    'myAnimal20190326_114943','myAnimal20190326_123814',                           #\n",
    "    'myAnimal20190327_145222',\n",
    "    'myAnimal20190329_123100','myAnimal20190329_124452',                           #25\n",
    "    \n",
    "    'myAnimal20190330_152928','myAnimal20190330_154402',\n",
    "    'myAnimal20190401_151049','myAnimal20190401_152757',\n",
    "    'myAnimal20190403_145131','myAnimal20190403_150444',\n",
    "    'myAnimal20190404_145335','myAnimal20190404_151349','myAnimal20190404_155328',\n",
    "    'myAnimal20190405_112457','myAnimal20190405_114943','myAnimal20190405_120104',\n",
    "    \n",
    "    'myAnimal20190405_143523',\n",
    "    \n",
    "    'myAnimal20190406_173232','myAnimal20190406_174216',\n",
    "    'myAnimal20190407_151559','myAnimal20190407_152512','myAnimal20190407_153254',\n",
    "    'myAnimal20190408_145948','myAnimal20190408_151815',\n",
    "    \n",
    "    'myAnimal20190410_124637_LT','myAnimal20190410_125450_LT','myAnimal20190410_131507_LT',\n",
    "    'myAnimal20190411_153618_LT','myAnimal20190411_155015_LT',\n",
    "    \n",
    "    'myAnimal20190415_173818',\n",
    "    'myAnimal20190418_112357',\n",
    "#     'myAnimal20190424_135507','myAnimal20190424_140708','myAnimal20190424_141653','myAnimal20190424_164329',\n",
    "#     'myAnimal20190425_111803','myAnimal20190425_113256','myAnimal20190425_114507','myAnimal20190425_114946',\n",
    "#     'myAnimal20190426_113132','myAnimal20190426_113918','myAnimal20190426_115116',\n",
    "#     'myAnimal20190430_104612',\n",
    "#     'myAnimal20190618_134328','myAnimal20190618_134806',\n",
    "]\n",
    "np.save(rfdn+'tracking'+'/epn_ephy.npy', epn);print(len(epn))\n",
    "epn_id = np.zeros((len(epn),))+1\n",
    "epn_id[-7:-2] = 0\n",
    "print(epn_id)\n",
    "np.save(rfdn+'tracking'+'/epn_ephy_id.npy', epn_id);print(len(epn))\n",
    "#####################lesion vs Intact set#################\n",
    "subset = np.array([20,28]); np.save(rfdn+'tracking'+'/subset_ephy_li.npy', subset);\n",
    "\n",
    "np.save(rfdn+'tracking'+'/epn_ephy_pre.npy',     epn[0:9]);    print(len(epn[0:13]))\n",
    "np.save(rfdn+'tracking'+'/epn_ephy_pre_TN.npy',  epn[0:9]);    print(len(epn[0:13]))\n",
    "\n",
    "np.save(rfdn+'tracking'+'/epn_ephy_post.npy', epn[20:52]);    print(len(epn[20:52]))\n",
    "np.save(rfdn+'tracking'+'/epn_ephy_post_LT.npy', epn[45:50]);    print(len(epn[45:50]))\n",
    "np.save(rfdn+'tracking'+'/epn_ephy_post_TN.npy',list(set(epn[20:45]+epn[50:52])));\n",
    "print(epn[51])"
   ]
  },
  {
   "cell_type": "markdown",
   "metadata": {},
   "source": [
    "# Quartus"
   ]
  },
  {
   "cell_type": "code",
   "execution_count": 123,
   "metadata": {},
   "outputs": [
    {
     "name": "stdout",
     "output_type": "stream",
     "text": [
      "29\n",
      "[0. 0. 0. 0. 0. 0. 0. 0. 0. 0. 0. 0. 0. 0. 0. 0. 0. 0. 0. 0. 0. 0. 0. 0.\n",
      " 2. 2. 1. 1. 1.]\n",
      "29\n",
      "9\n",
      "9\n",
      "12\n",
      "10\n",
      "2\n",
      "myAnimal20190214_123200 myAnimal20190415_181031\n"
     ]
    }
   ],
   "source": [
    "rfdn = 'Rats/Rat_Quartus/';\n",
    "if not os.path.exists(rfdn+'tracking'):\n",
    "    os.makedirs(rfdn+'tracking')\n",
    "subset = np.array([4,12,20,28]); np.save(rfdn+'tracking'+'/subset_ephy.npy', subset);\n",
    "epn = [\n",
    "    \n",
    "    #1/28\n",
    "    'myAnimal20190131_110225',  'myAnimal20190131_111042',\n",
    "    'myAnimal20190201_105133',  'myAnimal20190201_105916',\n",
    "    'myAnimal20190202_181612',  'myAnimal20190202_182512_round_pins',\n",
    "    'myAnimal20190203_171742_round_pins','myAnimal20190203_173709',\n",
    "    'myAnimal20190204_155016',\n",
    "    \n",
    "    \n",
    "    'myAnimal20190205_152016_round_pins','myAnimal20190205_152930_round_pins',\n",
    "    'myAnimal20190206_152335_round_pins',\n",
    "    'myAnimal20190207_102354', 'myAnimal20190207_103439',\n",
    "    \n",
    "    # 10 days\n",
    "    'myAnimal20190208_110821', 'myAnimal20190208_111636',\n",
    "    'myAnimal20190209_150944', 'myAnimal20190209_151602',\n",
    "    'myAnimal20190211_134124',\n",
    "    'myAnimal20190211_134835',\n",
    "    'myAnimal20190214_123200', 'myAnimal20190214_123905',\n",
    "    'myAnimal20190215_104305', 'myAnimal20190215_105649',\n",
    "    'myAnimal20190301_113909', 'myAnimal20190301_114857',\n",
    "    'myAnimal20190306_113211', 'myAnimal20190306_113915',\n",
    "    'myAnimal20190415_181031',\n",
    "];np.save(rfdn+'tracking'+'/epn_ephy.npy', epn);    print(len(epn))\n",
    "epn_id = np.zeros((len(epn),))\n",
    "epn_id[[-3,-2,-1]] = 1\n",
    "epn_id[-5:-3] = 2\n",
    "print(epn_id)\n",
    "np.save(rfdn+'tracking'+'/epn_ephy_id.npy', epn_id);print(len(epn))\n",
    "\n",
    "#####################lesion vs Intact set#################\n",
    "subset = np.array([4,28]); np.save(rfdn+'tracking'+'/subset_ephy_li.npy', subset);\n",
    "np.save(rfdn+'tracking'+'/epn_ephy_pre.npy',    epn[0:8]);    print(len(epn[0:9]))\n",
    "np.save(rfdn+'tracking'+'/epn_ephy_pre_LT.npy', epn[0:8]);    print(len(epn[0:9]))\n",
    "\n",
    "np.save(rfdn+'tracking'+'/epn_ephy_post.npy',    epn[20:26]);    print(len(epn[14:26]))\n",
    "np.save(rfdn+'tracking'+'/epn_ephy_post_LT.npy', epn[14:24]);    print(len(epn[14:24]))\n",
    "np.save(rfdn+'tracking'+'/epn_ephy_post_TN.npy', epn[24:26]);    print(len(epn[24:26]))\n",
    "\n",
    "print(epn[20],epn[28])"
   ]
  },
  {
   "cell_type": "markdown",
   "metadata": {},
   "source": [
    "# Unknown"
   ]
  },
  {
   "cell_type": "code",
   "execution_count": 124,
   "metadata": {},
   "outputs": [
    {
     "name": "stdout",
     "output_type": "stream",
     "text": [
      "15\n",
      "[0. 0. 0. 0. 0. 0. 0. 0. 0. 2. 2. 2. 1. 1. 1.]\n",
      "15\n",
      "7\n",
      "7\n",
      "8\n",
      "2\n",
      "6\n"
     ]
    }
   ],
   "source": [
    "rfdn = 'Rats/Rat_Unknown/';\n",
    "if not os.path.exists(rfdn+'tracking'):\n",
    "    os.makedirs(rfdn+'tracking')\n",
    "subset = np.array([4,12,20,28]); np.save(rfdn+'tracking'+'/subset_ephy.npy', subset);\n",
    "epn = [\n",
    "    #### 2/13 ####\n",
    "    'myAnimal20190217_173157', 'myAnimal20190217_173912','myAnimal20190217_174807',\n",
    "    'myAnimal20190218_145618', 'myAnimal20190218_150805',\n",
    "    'myAnimal20190219_131701', 'myAnimal20190219_132852',\n",
    "    \n",
    "    'myAnimal20190225_130113',\n",
    "    'myAnimal20190226_133643',\n",
    "    'myAnimal20190227_115428',\n",
    "    'myAnimal20190301_104327', 'myAnimal20190301_105102',\n",
    "    'myAnimal20190302_160128', 'myAnimal20190302_161316',\n",
    "    'myAnimal20190303_163119',\n",
    "#     'myAnimal20190312_114034',\n",
    "]\n",
    "np.save(rfdn+'tracking'+'/epn_ephy.npy', epn); print(len(epn))\n",
    "epn_id = np.zeros((len(epn),))\n",
    "epn_id[[-3,-2,-1]] = 1\n",
    "epn_id[-6:-3] = 2\n",
    "print(epn_id)\n",
    "np.save(rfdn+'tracking'+'/epn_ephy_id.npy', epn_id);print(len(epn))\n",
    "\n",
    "\n",
    "#####################lesion vs Intact set#################\n",
    "\n",
    "subset = np.array([20,4]); np.save(rfdn+'tracking'+'/subset_ephy_li.npy', subset);\n",
    "np.save(rfdn+'tracking'+'/epn_ephy_pre.npy', epn[0:7]);      print(len(epn[0:7]))\n",
    "np.save(rfdn+'tracking'+'/epn_ephy_pre_LT.npy', epn[0:7]);   print(len(epn[0:7]))\n",
    "\n",
    "np.save(rfdn+'tracking'+'/epn_ephy_post.npy', epn[7:15]);    print(len(epn[7:15]))\n",
    "np.save(rfdn+'tracking'+'/epn_ephy_post_LT.npy', epn[7:9]);  print(len(epn[7:9]))\n",
    "np.save(rfdn+'tracking'+'/epn_ephy_post_TN.npy', epn[9:15]); print(len(epn[9:15]))"
   ]
  },
  {
   "cell_type": "markdown",
   "metadata": {},
   "source": [
    "# Swashbuckler"
   ]
  },
  {
   "cell_type": "code",
   "execution_count": 125,
   "metadata": {},
   "outputs": [
    {
     "name": "stdout",
     "output_type": "stream",
     "text": [
      "20\n",
      "[1. 1. 1. 1. 1. 1. 1. 1. 1. 1. 1. 1. 1. 1. 1. 1. 1. 1. 1. 1.]\n",
      "20\n",
      "4\n",
      "5\n",
      "12\n",
      "myAnimal20190521_110939\n"
     ]
    }
   ],
   "source": [
    "rfdn = 'Rats/Rat_Swashbuckler/';\n",
    "if not os.path.exists(rfdn+'tracking'):\n",
    "    os.makedirs(rfdn+'tracking')\n",
    "subset = np.array([0,1,4,5]); np.save(rfdn+'tracking'+'/subset_ephy.npy', subset);\n",
    "epn = [\n",
    "    ######## Swashbuckler  5/08##############\n",
    "    'myAnimal20190514_120741','myAnimal20190514_122256','myAnimal20190514_123201',\n",
    "    'myAnimal20190515_095840',\n",
    "#     'myAnimal20190515_100757',\n",
    "    \n",
    "    'myAnimal20190516_115335','myAnimal20190516_120031','myAnimal20190516_120728',\n",
    "    \n",
    "    ### 10 days\n",
    "    'myAnimal20190521_110156','myAnimal20190521_110939','myAnimal20190521_120327',\n",
    "    'myAnimal20190522_153015',\n",
    "    'myAnimal20190523_095829',\n",
    "    'myAnimal20190523_100541',\n",
    "#     'myAnimal20190524_133109','myAnimal20190524_133703',\n",
    "    'myAnimal20190524_134337','myAnimal20190524_135243',\n",
    "    'myAnimal20190525_165456',\n",
    "    'myAnimal20190526_151523','myAnimal20190526_152110','myAnimal20190526_152657',\n",
    "    'myAnimal20190527_130449',\n",
    "]\n",
    "\n",
    "np.save(rfdn+'tracking'+'/epn_ephy.npy', epn);print(len(epn))\n",
    "epn_id = np.zeros((len(epn),))+1\n",
    "print(epn_id)\n",
    "np.save(rfdn+'tracking'+'/epn_ephy_id.npy', epn_id);print(len(epn))\n",
    "#####################lesion vs Intact set#################\n",
    "subset = np.array([0,4]); np.save(rfdn+'tracking'+'/subset_ephy_li.npy', subset);\n",
    "np.save(rfdn+'tracking'+'/epn_ephy_pre.npy',    epn[0:7]);print(len(epn[0:4]))\n",
    "np.save(rfdn+'tracking'+'/epn_ephy_pre_TN.npy', epn[0:7]);print(len(epn[0:5]))\n",
    "\n",
    "np.save(rfdn+'tracking'+'/epn_ephy_post.npy',   epn[7:20]);\n",
    "np.save(rfdn+'tracking'+'/epn_ephy_post_TN.npy',epn[7:20]);print(len(epn[8:20]))\n",
    "\n",
    "print(epn[8])"
   ]
  },
  {
   "cell_type": "markdown",
   "metadata": {},
   "source": [
    "# Lenny"
   ]
  },
  {
   "cell_type": "code",
   "execution_count": 127,
   "metadata": {},
   "outputs": [
    {
     "name": "stdout",
     "output_type": "stream",
     "text": [
      "11\n",
      "11\n",
      "4\n",
      "4\n",
      "6\n",
      "6\n",
      "myAnimal20190104_164305_track\n"
     ]
    }
   ],
   "source": [
    "rfdn = 'Rats/Rat_Lenny/'; \n",
    "if not os.path.exists(rfdn+'tracking'):\n",
    "    os.makedirs(rfdn+'tracking')\n",
    "subset = np.array([5,12]); np.save(rfdn+'tracking'+'/subset_ephy.npy', subset)\n",
    "epn = [\n",
    "    'myAnimal20181213_104718','myAnimal20181213_110355',\n",
    "    'myAnimal20181214_120240',\n",
    "    'myAnimal20181217_104725_track',\n",
    "    \n",
    "    'myAnimal20181223_154314_track',\n",
    "    \n",
    "    'myAnimal20190104_164305_track',\n",
    "    'myAnimal20190105_161144_track',\n",
    "    'myAnimal20190105_161825_track',\n",
    "    'myAnimal20190107_111247_track',\n",
    "    'myAnimal20190107_111825_track','myAnimal20190107_112432_track',\n",
    "]\n",
    "np.save(rfdn+'tracking'+'/epn_ephy.npy', epn);print(len(epn))\n",
    "epn_id = np.zeros((len(epn),))\n",
    "np.save(rfdn+'tracking'+'/epn_ephy_id.npy', epn_id);print(len(epn))\n",
    "#####################lesion vs Intact set#################\n",
    "subset = np.array([5,12]); np.save(rfdn+'tracking'+'/subset_ephy_li.npy', subset);\n",
    "np.save(rfdn+'tracking'+'/epn_ephy_pre.npy',    epn[0:4]);print(len(epn[0:4]))\n",
    "np.save(rfdn+'tracking'+'/epn_ephy_pre_LT.npy', epn[0:4]);print(len(epn[0:4]))\n",
    "np.save(rfdn+'tracking'+'/epn_ephy_post.npy',    epn[5:11]);print(len(epn[5:11]))\n",
    "np.save(rfdn+'tracking'+'/epn_ephy_post_LT.npy', epn[5:11]);print(len(epn[5:11]))\n",
    "np.save(rfdn+'tracking'+'/LT.npy', 38);\n",
    "print(epn[5])"
   ]
  }
 ],
 "metadata": {
  "kernelspec": {
   "display_name": "Python 3",
   "language": "python",
   "name": "python3"
  },
  "language_info": {
   "codemirror_mode": {
    "name": "ipython",
    "version": 3
   },
   "file_extension": ".py",
   "mimetype": "text/x-python",
   "name": "python",
   "nbconvert_exporter": "python",
   "pygments_lexer": "ipython3",
   "version": "3.5.6"
  }
 },
 "nbformat": 4,
 "nbformat_minor": 2
}
