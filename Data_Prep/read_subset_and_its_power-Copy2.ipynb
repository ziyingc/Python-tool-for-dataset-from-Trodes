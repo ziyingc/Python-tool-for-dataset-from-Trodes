{
 "cells": [
  {
   "cell_type": "code",
   "execution_count": 1,
   "metadata": {
    "scrolled": true
   },
   "outputs": [
    {
     "name": "stdout",
     "output_type": "stream",
     "text": [
      "D:\\Dropbox\\Lab\\MotorCortex\\Data_Prep\n",
      "D:\\Dropbox\\Lab\\MotorCortex\n"
     ]
    }
   ],
   "source": [
    "import warnings; warnings.filterwarnings(\"ignore\")\n",
    "import os;\n",
    "from sys import platform\n",
    "print(os.getcwd())\n",
    "if platform == \"darwin\":\n",
    "    os.chdir('/Users/ziyingc/Dropbox/Lab/MotorCortex')\n",
    "elif platform == \"win32\":\n",
    "    os.chdir('D:\\Dropbox\\Lab\\MotorCortex')\n",
    "print(os.getcwd())\n",
    "import matplotlib as mpl\n",
    "import matplotlib.pyplot as plt\n",
    "import matplotlib.cm as cm # colormap module\n",
    "import matplotlib.mlab as mlab \n",
    "from matplotlib.gridspec import GridSpec\n",
    "import numpy as np\n",
    "import pycwt as wavelet\n",
    "import scipy\n",
    "import scipy.signal as signal\n",
    "from scipy.ndimage.filters import gaussian_filter\n",
    "import read_post_data as rpd\n",
    "\n",
    "fs_out = 500;fps = 30\n",
    "rfdn = 'Rats/Rat_Astro/';subset = np.array([5,12])\n",
    "epn = np.load(rfdn +'epn_LT.npy');\n",
    "mother = wavelet.Morlet(6)\n",
    "beta_lim = np.array([8, 50]);res = 1;\n",
    "dt = 1/fs_out\n",
    "n_f = int((beta_lim[1]-beta_lim[0])*res+1)\n",
    "freqs = np.linspace(beta_lim[0], beta_lim[1], num = n_f)\n",
    "np.save(rfdn + 'freqs.npy', freqs)\n",
    "print(epn)\n",
    "\n",
    "\n",
    "\n",
    "allset = np.arange(64)\n",
    "subset = np.arange(64)\n",
    "tetrodes = np.arange(16)\n",
    "rfdn = 'Rats/Rat_Solid/'\n",
    "epn = [ \n",
    "    'myAnimal20180919_171959_track',\n",
    "#     'myAnimal20180919_172236_track','myAnimal20180919_172709_track',\n",
    "#     'myAnimal20180920_153436_track','myAnimal20180920_154602_track','myAnimal20180920_155948_track',\n",
    "#     'myAnimal20180926_174242_track','myAnimal20180928_162200_track','myAnimal20180928_164339_track',\n",
    "#     'myAnimal20180929_184631_track','myAnimal20180930_163748_track','myAnimal20180930_164950_track',\n",
    "\n",
    "]\n",
    "\n",
    "fs_out = 500\n"
   ]
  },
  {
   "cell_type": "markdown",
   "metadata": {},
   "source": [
    "<h1> calculating each channel's correlation with speed</h1>"
   ]
  }
 ],
 "metadata": {
  "kernelspec": {
   "display_name": "Python 3",
   "language": "python",
   "name": "python3"
  },
  "language_info": {
   "codemirror_mode": {
    "name": "ipython",
    "version": 3
   },
   "file_extension": ".py",
   "mimetype": "text/x-python",
   "name": "python",
   "nbconvert_exporter": "python",
   "pygments_lexer": "ipython3",
   "version": "3.7.0"
  },
  "widgets": {
   "state": {},
   "version": "1.1.2"
  }
 },
 "nbformat": 4,
 "nbformat_minor": 2
}
