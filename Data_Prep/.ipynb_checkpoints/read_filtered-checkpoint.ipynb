{
 "cells": [
  {
   "cell_type": "code",
   "execution_count": 1,
   "metadata": {},
   "outputs": [
    {
     "name": "stdout",
     "output_type": "stream",
     "text": [
      "/Users/ziyingc/Dropbox/Lab/MotorCortex/Data_Prep\n",
      "/Users/ziyingc/Dropbox/Lab/MotorCortex\n",
      "['myAnimal20190524_140215' 'myAnimal20190524_140834'\n",
      " 'myAnimal20190524_141912' 'myAnimal20190525_163204'\n",
      " 'myAnimal20190525_163751' 'myAnimal20190525_164628'\n",
      " 'myAnimal20190526_155455' 'myAnimal20190526_155956'\n",
      " 'myAnimal20190526_160605' 'myAnimal20190526_161233'\n",
      " 'myAnimal20190527_122048' 'myAnimal20190527_124832'\n",
      " 'myAnimal20190527_125226' 'myAnimal20190528_125224'\n",
      " 'myAnimal20190528_130312' 'myAnimal20190528_131113'\n",
      " 'myAnimal20190529_134642' 'myAnimal20190529_135946'\n",
      " 'myAnimal20190529_140941' 'myAnimal20190530_102143'\n",
      " 'myAnimal20190530_103155' 'myAnimal20190530_104202'\n",
      " 'myAnimal20190531_140205' 'myAnimal20190531_140711']\n"
     ]
    }
   ],
   "source": [
    "import warnings; warnings.filterwarnings(\"ignore\")\n",
    "import os;\n",
    "from sys import platform\n",
    "print(os.getcwd())\n",
    "if platform == \"darwin\":\n",
    "    os.chdir('/Users/ziyingc/Dropbox/Lab/MotorCortex')\n",
    "elif platform == \"win32\":\n",
    "    os.chdir('D:\\Dropbox\\Lab\\MotorCortex')\n",
    "print(os.getcwd())\n",
    "import matplotlib as mpl\n",
    "import matplotlib.pyplot as plt\n",
    "import matplotlib.cm as cm # colormap module\n",
    "import matplotlib.mlab as mlab \n",
    "from matplotlib.gridspec import GridSpec\n",
    "import numpy as np\n",
    "import pycwt as wavelet\n",
    "import scipy\n",
    "import scipy.signal as signal\n",
    "from scipy.ndimage.filters import gaussian_filter\n",
    "import read_post_data as rpd\n",
    "import philters\n",
    "fs_out = 1000;fps = 30\n",
    "rfdn = 'Rats/Rat_Outlaw/';subset = np.array([5,13])\n",
    "\n",
    "epn = np.load(rfdn+'epn.npy');\n",
    "mother = wavelet.Morlet(6)\n",
    "beta_lim = np.array([3, 55]);res = 2;\n",
    "dt = 1/fs_out\n",
    "n_f = int((beta_lim[1]-beta_lim[0])*res+1)\n",
    "freqs = np.linspace(beta_lim[0], beta_lim[1], num = n_f)\n",
    "np.save(rfdn + 'freqs.npy', freqs)\n",
    "txt_tn = ['lesion','intact']\n",
    "txt_line = ['-', '--']\n",
    "print(epn)\n"
   ]
  },
  {
   "cell_type": "code",
   "execution_count": null,
   "metadata": {},
   "outputs": [],
   "source": [
    "#############\n",
    "order1 = 5; thr_peak = 2000; order2 = int(fs_out/2);\n",
    "#############\n",
    "fl = 13\n",
    "fh = 30\n",
    "for k in epn:\n",
    "    fdn = rfdn+k+'/'\n",
    "    ts = np.fromfile(fdn + 'timestamps.raw', dtype=np.uint32)\n",
    "    if not os.path.exists(fdn+'NPY_'+str(fs_out)):\n",
    "        os.makedirs(fdn+'NPY_'+str(fs_out))\n",
    "    ls = len(ts)\n",
    "    print(k,'                  ',np.round(len(ts)/fs,2))\n",
    "    for i in subset:\n",
    "        chn = str(i//10)+str(i%10)\n",
    "#     if not os.path.exists(fdn+'NPY_'+str(fs_out)+'/ch.'+chn+'.npy'):\n",
    "        fn = 'Raw/ch.'+chn+'.raw'\n",
    "        x = np.fromfile(fdn+fn, dtype=np.int16)\n",
    "#         indexes_x = philters.read_epochs_trans(np.absolute(x), order1, thr_peak, order2)\n",
    "#         np.save(fdn+'Raw/ch.'+chn+'_idx.npy', indexes_x);\n",
    "        sig = nel.AnalogSignalArray(data=x, timestamps=ts/fs, fs=fs)\n",
    "        lfp_f = nel.filtering.sosfiltfilt(sig, fl=fl, fh=fh)\n",
    "\n",
    "        lfp_f = lfp_f.downsample(fs_out=fs_out)\n",
    "        x_f = lfp_f.ydata[0]\n",
    "        np.save(fdn+'NPY_'+str(fs_out)+'/ch.'+chn+'.npy', x_f)\n",
    "\n",
    "    try:\n",
    "        t = lfp_f.time\n",
    "        np.save(fdn+'NPY_'+str(fs_out)+'/ts_ds.npy', t)\n",
    "        np.save(fdn+'NPY_'+str(fs_out)+'/fs_out.npy', fs_out)\n",
    "        np.save(fdn+'NPY_'+str(fs_out)+'/filter.npy', np.array([fl,fh]))\n",
    "    except:\n",
    "        print(k+'is done')"
   ]
  }
 ],
 "metadata": {
  "kernelspec": {
   "display_name": "Python 3",
   "language": "python",
   "name": "python3"
  },
  "language_info": {
   "codemirror_mode": {
    "name": "ipython",
    "version": 3
   },
   "file_extension": ".py",
   "mimetype": "text/x-python",
   "name": "python",
   "nbconvert_exporter": "python",
   "pygments_lexer": "ipython3",
   "version": "3.5.6"
  }
 },
 "nbformat": 4,
 "nbformat_minor": 2
}
