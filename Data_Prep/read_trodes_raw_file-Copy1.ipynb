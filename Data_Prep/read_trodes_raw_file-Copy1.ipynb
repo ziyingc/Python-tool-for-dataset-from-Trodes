{
 "cells": [
  {
   "cell_type": "code",
   "execution_count": 4,
   "metadata": {
    "scrolled": true
   },
   "outputs": [
    {
     "name": "stdout",
     "output_type": "stream",
     "text": [
      "/Users/ziyingc/Dropbox/Lab/MotorCortex\n",
      "/Users/ziyingc/Dropbox/Lab/MotorCortex\n"
     ]
    }
   ],
   "source": [
    "import warnings; warnings.filterwarnings(\"ignore\")\n",
    "import os;\n",
    "from sys import platform\n",
    "print(os.getcwd())\n",
    "if platform == \"darwin\":\n",
    "    os.chdir('/Users/ziyingc/Dropbox/Lab/MotorCortex')\n",
    "elif platform == \"win32\":\n",
    "    os.chdir('D:\\Dropbox\\Lab\\MotorCortex')\n",
    "print(os.getcwd())\n",
    "import jagular as jag #TODO: don't import externally\n",
    "import numpy as np\n",
    "\n",
    "rfdn = 'Rats/Rat_Gillbert/';subset = np.array([3,5,11,15,20,24])\n",
    "epn = [\n",
    "    'BOX20180605_134211','Groundmilk20180522_105014','BOX20180605_125253',\n",
    "    'BOX20180605_140741','Groundmilk20180522_112613','track20180615_162158',\n",
    "    'Track_D85_20180621_151005','Track_D90_20180621_124752','TRACK20180620_142140',\n",
    "    'TRACK20180619_150416','myAnimal20180710_155854','myAnimal20180710_153821_box',\n",
    "    'myAnimal20180710_153821','myAnimal20180707_154704','myAnimal20180707_154704',\n",
    "    'myAnimal20180705_164149',\n",
    "]\n",
    "\n"
   ]
  },
  {
   "cell_type": "code",
   "execution_count": 5,
   "metadata": {
    "scrolled": true
   },
   "outputs": [],
   "source": [
    "for fn in epn:\n",
    "    fdn = rfdn + fn + '/'\n",
    "    if not os.path.exists(fdn+'Raw'):\n",
    "        os.makedirs(fdn+'Raw')\n",
    "    jfm = jag.io.JagularFileMap(fdn+ fn +'.rec')\n",
    "    jag.utils.extract_channels(jfm=jfm, ch_out_prefix=fdn+'Raw/', \n",
    "                           ts_out = fdn+'timestamps.raw',\n",
    "                          subset=subset)"
   ]
  }
 ],
 "metadata": {
  "kernelspec": {
   "display_name": "Python 3",
   "language": "python",
   "name": "python3"
  },
  "language_info": {
   "codemirror_mode": {
    "name": "ipython",
    "version": 3
   },
   "file_extension": ".py",
   "mimetype": "text/x-python",
   "name": "python",
   "nbconvert_exporter": "python",
   "pygments_lexer": "ipython3",
   "version": "3.5.6"
  },
  "widgets": {
   "state": {},
   "version": "1.1.2"
  }
 },
 "nbformat": 4,
 "nbformat_minor": 2
}
